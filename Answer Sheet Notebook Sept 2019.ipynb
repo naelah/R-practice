{
 "cells": [
  {
   "cell_type": "raw",
   "metadata": {},
   "source": [
    "Question 1 (a)"
   ]
  },
  {
   "cell_type": "code",
   "execution_count": 1,
   "metadata": {},
   "outputs": [
    {
     "data": {
      "text/html": [
       "<ol class=list-inline>\n",
       "\t<li>10</li>\n",
       "\t<li>10</li>\n",
       "\t<li>10</li>\n",
       "\t<li>10</li>\n",
       "\t<li>10</li>\n",
       "\t<li>18</li>\n",
       "\t<li>18</li>\n",
       "\t<li>18</li>\n",
       "\t<li>18</li>\n",
       "\t<li>26</li>\n",
       "\t<li>26</li>\n",
       "\t<li>26</li>\n",
       "\t<li>34</li>\n",
       "\t<li>34</li>\n",
       "</ol>\n"
      ],
      "text/latex": [
       "\\begin{enumerate*}\n",
       "\\item 10\n",
       "\\item 10\n",
       "\\item 10\n",
       "\\item 10\n",
       "\\item 10\n",
       "\\item 18\n",
       "\\item 18\n",
       "\\item 18\n",
       "\\item 18\n",
       "\\item 26\n",
       "\\item 26\n",
       "\\item 26\n",
       "\\item 34\n",
       "\\item 34\n",
       "\\end{enumerate*}\n"
      ],
      "text/markdown": [
       "1. 10\n",
       "2. 10\n",
       "3. 10\n",
       "4. 10\n",
       "5. 10\n",
       "6. 18\n",
       "7. 18\n",
       "8. 18\n",
       "9. 18\n",
       "10. 26\n",
       "11. 26\n",
       "12. 26\n",
       "13. 34\n",
       "14. 34\n",
       "\n",
       "\n"
      ],
      "text/plain": [
       " [1] 10 10 10 10 10 18 18 18 18 26 26 26 34 34"
      ]
     },
     "metadata": {},
     "output_type": "display_data"
    }
   ],
   "source": [
    "rep(seq(10,40,8),5:2)"
   ]
  },
  {
   "cell_type": "raw",
   "metadata": {},
   "source": [
    "Question 1 (b) Write the R command to produce a vector of four 8's, seven 6's and three 5's"
   ]
  },
  {
   "cell_type": "code",
   "execution_count": 2,
   "metadata": {},
   "outputs": [
    {
     "data": {
      "text/html": [
       "<ol class=list-inline>\n",
       "\t<li>8</li>\n",
       "\t<li>8</li>\n",
       "\t<li>8</li>\n",
       "\t<li>8</li>\n",
       "\t<li>6</li>\n",
       "\t<li>6</li>\n",
       "\t<li>6</li>\n",
       "\t<li>6</li>\n",
       "\t<li>6</li>\n",
       "\t<li>6</li>\n",
       "\t<li>6</li>\n",
       "\t<li>5</li>\n",
       "\t<li>5</li>\n",
       "\t<li>5</li>\n",
       "</ol>\n"
      ],
      "text/latex": [
       "\\begin{enumerate*}\n",
       "\\item 8\n",
       "\\item 8\n",
       "\\item 8\n",
       "\\item 8\n",
       "\\item 6\n",
       "\\item 6\n",
       "\\item 6\n",
       "\\item 6\n",
       "\\item 6\n",
       "\\item 6\n",
       "\\item 6\n",
       "\\item 5\n",
       "\\item 5\n",
       "\\item 5\n",
       "\\end{enumerate*}\n"
      ],
      "text/markdown": [
       "1. 8\n",
       "2. 8\n",
       "3. 8\n",
       "4. 8\n",
       "5. 6\n",
       "6. 6\n",
       "7. 6\n",
       "8. 6\n",
       "9. 6\n",
       "10. 6\n",
       "11. 6\n",
       "12. 5\n",
       "13. 5\n",
       "14. 5\n",
       "\n",
       "\n"
      ],
      "text/plain": [
       " [1] 8 8 8 8 6 6 6 6 6 6 6 5 5 5"
      ]
     },
     "metadata": {},
     "output_type": "display_data"
    }
   ],
   "source": [
    "q1b = c(rep(8,4),rep(6,7),rep(5,3)) \n",
    "q1b"
   ]
  },
  {
   "cell_type": "markdown",
   "metadata": {},
   "source": [
    "Question 1 (c)"
   ]
  },
  {
   "cell_type": "code",
   "execution_count": 3,
   "metadata": {},
   "outputs": [
    {
     "data": {
      "text/html": [
       "<ol class=list-inline>\n",
       "\t<li>400</li>\n",
       "\t<li>380</li>\n",
       "\t<li>360</li>\n",
       "\t<li>340</li>\n",
       "\t<li>320</li>\n",
       "\t<li>300</li>\n",
       "\t<li>280</li>\n",
       "\t<li>260</li>\n",
       "\t<li>240</li>\n",
       "\t<li>220</li>\n",
       "\t<li>200</li>\n",
       "\t<li>180</li>\n",
       "\t<li>160</li>\n",
       "\t<li>140</li>\n",
       "\t<li>120</li>\n",
       "\t<li>100</li>\n",
       "\t<li>80</li>\n",
       "\t<li>60</li>\n",
       "</ol>\n"
      ],
      "text/latex": [
       "\\begin{enumerate*}\n",
       "\\item 400\n",
       "\\item 380\n",
       "\\item 360\n",
       "\\item 340\n",
       "\\item 320\n",
       "\\item 300\n",
       "\\item 280\n",
       "\\item 260\n",
       "\\item 240\n",
       "\\item 220\n",
       "\\item 200\n",
       "\\item 180\n",
       "\\item 160\n",
       "\\item 140\n",
       "\\item 120\n",
       "\\item 100\n",
       "\\item 80\n",
       "\\item 60\n",
       "\\end{enumerate*}\n"
      ],
      "text/markdown": [
       "1. 400\n",
       "2. 380\n",
       "3. 360\n",
       "4. 340\n",
       "5. 320\n",
       "6. 300\n",
       "7. 280\n",
       "8. 260\n",
       "9. 240\n",
       "10. 220\n",
       "11. 200\n",
       "12. 180\n",
       "13. 160\n",
       "14. 140\n",
       "15. 120\n",
       "16. 100\n",
       "17. 80\n",
       "18. 60\n",
       "\n",
       "\n"
      ],
      "text/plain": [
       " [1] 400 380 360 340 320 300 280 260 240 220 200 180 160 140 120 100  80  60"
      ]
     },
     "metadata": {},
     "output_type": "display_data"
    }
   ],
   "source": [
    "q1c = rev(seq(60,400,by=20))\n",
    "q1c"
   ]
  },
  {
   "cell_type": "raw",
   "metadata": {},
   "source": [
    "Question 1 (d) Produce the following output by using the data in part c\n",
    "#     \t\t[,1] [,2] [,3] [,4] [,5] [,6]\n",
    "#\t\t[1,]  400  380  360  340  320  300\n",
    "#\t\t[2,]  280  260  240  220  200  180\n",
    "#\t\t[3,]  160  140  120  100   80   60\n"
   ]
  },
  {
   "cell_type": "code",
   "execution_count": 4,
   "metadata": {},
   "outputs": [
    {
     "data": {
      "text/html": [
       "<table>\n",
       "<caption>A matrix: 3 × 6 of type dbl</caption>\n",
       "<tbody>\n",
       "\t<tr><td>400</td><td>380</td><td>360</td><td>340</td><td>320</td><td>300</td></tr>\n",
       "\t<tr><td>280</td><td>260</td><td>240</td><td>220</td><td>200</td><td>180</td></tr>\n",
       "\t<tr><td>160</td><td>140</td><td>120</td><td>100</td><td> 80</td><td> 60</td></tr>\n",
       "</tbody>\n",
       "</table>\n"
      ],
      "text/latex": [
       "A matrix: 3 × 6 of type dbl\n",
       "\\begin{tabular}{llllll}\n",
       "\t 400 & 380 & 360 & 340 & 320 & 300\\\\\n",
       "\t 280 & 260 & 240 & 220 & 200 & 180\\\\\n",
       "\t 160 & 140 & 120 & 100 &  80 &  60\\\\\n",
       "\\end{tabular}\n"
      ],
      "text/markdown": [
       "\n",
       "A matrix: 3 × 6 of type dbl\n",
       "\n",
       "| 400 | 380 | 360 | 340 | 320 | 300 |\n",
       "| 280 | 260 | 240 | 220 | 200 | 180 |\n",
       "| 160 | 140 | 120 | 100 |  80 |  60 |\n",
       "\n"
      ],
      "text/plain": [
       "     [,1] [,2] [,3] [,4] [,5] [,6]\n",
       "[1,] 400  380  360  340  320  300 \n",
       "[2,] 280  260  240  220  200  180 \n",
       "[3,] 160  140  120  100   80   60 "
      ]
     },
     "metadata": {},
     "output_type": "display_data"
    }
   ],
   "source": [
    "q1d = matrix(q1c, nrow=3, byrow=T)\n",
    "q1d"
   ]
  },
  {
   "cell_type": "raw",
   "metadata": {},
   "source": [
    "Question 1 (e) Based on the data in part d) obtain the following output\n",
    ", , 1\n",
    "\n",
    "     [,1] [,2] [,3]\n",
    "[1,]  400  160  260\n",
    "[2,]  280  380  140\n",
    "\n",
    ", , 2\n",
    "\n",
    "     [,1] [,2] [,3]\n",
    "[1,]  360  120  220\n",
    "[2,]  240  340  100\n",
    "\n",
    ", , 3\n",
    "\n",
    "     [,1] [,2] [,3]\n",
    "[1,]  320   80  180\n",
    "[2,]  200  300   60"
   ]
  },
  {
   "cell_type": "code",
   "execution_count": 5,
   "metadata": {},
   "outputs": [
    {
     "data": {
      "text/html": [
       "<ol class=list-inline>\n",
       "\t<li>400</li>\n",
       "\t<li>280</li>\n",
       "\t<li>160</li>\n",
       "\t<li>380</li>\n",
       "\t<li>260</li>\n",
       "\t<li>140</li>\n",
       "\t<li>360</li>\n",
       "\t<li>240</li>\n",
       "\t<li>120</li>\n",
       "\t<li>340</li>\n",
       "\t<li>220</li>\n",
       "\t<li>100</li>\n",
       "\t<li>320</li>\n",
       "\t<li>200</li>\n",
       "\t<li>80</li>\n",
       "\t<li>300</li>\n",
       "\t<li>180</li>\n",
       "\t<li>60</li>\n",
       "</ol>\n"
      ],
      "text/latex": [
       "\\begin{enumerate*}\n",
       "\\item 400\n",
       "\\item 280\n",
       "\\item 160\n",
       "\\item 380\n",
       "\\item 260\n",
       "\\item 140\n",
       "\\item 360\n",
       "\\item 240\n",
       "\\item 120\n",
       "\\item 340\n",
       "\\item 220\n",
       "\\item 100\n",
       "\\item 320\n",
       "\\item 200\n",
       "\\item 80\n",
       "\\item 300\n",
       "\\item 180\n",
       "\\item 60\n",
       "\\end{enumerate*}\n"
      ],
      "text/markdown": [
       "1. 400\n",
       "2. 280\n",
       "3. 160\n",
       "4. 380\n",
       "5. 260\n",
       "6. 140\n",
       "7. 360\n",
       "8. 240\n",
       "9. 120\n",
       "10. 340\n",
       "11. 220\n",
       "12. 100\n",
       "13. 320\n",
       "14. 200\n",
       "15. 80\n",
       "16. 300\n",
       "17. 180\n",
       "18. 60\n",
       "\n",
       "\n"
      ],
      "text/plain": [
       ", , 1\n",
       "\n",
       "     [,1] [,2] [,3]\n",
       "[1,]  400  160  260\n",
       "[2,]  280  380  140\n",
       "\n",
       ", , 2\n",
       "\n",
       "     [,1] [,2] [,3]\n",
       "[1,]  360  120  220\n",
       "[2,]  240  340  100\n",
       "\n",
       ", , 3\n",
       "\n",
       "     [,1] [,2] [,3]\n",
       "[1,]  320   80  180\n",
       "[2,]  200  300   60\n"
      ]
     },
     "metadata": {},
     "output_type": "display_data"
    }
   ],
   "source": [
    "q1e = array(q1d,c(2,3,3))\n",
    "q1e"
   ]
  },
  {
   "cell_type": "raw",
   "metadata": {},
   "source": [
    "Question 1 (e) Write a suitable command to replace the value 80 in part d) with 888\n"
   ]
  },
  {
   "cell_type": "code",
   "execution_count": 6,
   "metadata": {},
   "outputs": [],
   "source": [
    "q1d[3,5] = 80\n"
   ]
  },
  {
   "cell_type": "raw",
   "metadata": {},
   "source": [
    "Question 2 (a)"
   ]
  },
  {
   "cell_type": "code",
   "execution_count": 7,
   "metadata": {},
   "outputs": [],
   "source": [
    "q2 = c(59,48,25,99,10,34,67,83)"
   ]
  },
  {
   "cell_type": "code",
   "execution_count": 8,
   "metadata": {},
   "outputs": [
    {
     "data": {
      "text/html": [
       "<ol class=list-inline>\n",
       "\t<li>10</li>\n",
       "\t<li>25</li>\n",
       "\t<li>34</li>\n",
       "\t<li>48</li>\n",
       "\t<li>59</li>\n",
       "\t<li>67</li>\n",
       "\t<li>83</li>\n",
       "\t<li>99</li>\n",
       "</ol>\n"
      ],
      "text/latex": [
       "\\begin{enumerate*}\n",
       "\\item 10\n",
       "\\item 25\n",
       "\\item 34\n",
       "\\item 48\n",
       "\\item 59\n",
       "\\item 67\n",
       "\\item 83\n",
       "\\item 99\n",
       "\\end{enumerate*}\n"
      ],
      "text/markdown": [
       "1. 10\n",
       "2. 25\n",
       "3. 34\n",
       "4. 48\n",
       "5. 59\n",
       "6. 67\n",
       "7. 83\n",
       "8. 99\n",
       "\n",
       "\n"
      ],
      "text/plain": [
       "[1] 10 25 34 48 59 67 83 99"
      ]
     },
     "metadata": {},
     "output_type": "display_data"
    }
   ],
   "source": [
    "sort(q2)"
   ]
  },
  {
   "cell_type": "code",
   "execution_count": 9,
   "metadata": {},
   "outputs": [
    {
     "data": {
      "text/html": [
       "<ol class=list-inline>\n",
       "\t<li>5</li>\n",
       "\t<li>3</li>\n",
       "\t<li>6</li>\n",
       "\t<li>2</li>\n",
       "\t<li>1</li>\n",
       "\t<li>7</li>\n",
       "\t<li>8</li>\n",
       "\t<li>4</li>\n",
       "</ol>\n"
      ],
      "text/latex": [
       "\\begin{enumerate*}\n",
       "\\item 5\n",
       "\\item 3\n",
       "\\item 6\n",
       "\\item 2\n",
       "\\item 1\n",
       "\\item 7\n",
       "\\item 8\n",
       "\\item 4\n",
       "\\end{enumerate*}\n"
      ],
      "text/markdown": [
       "1. 5\n",
       "2. 3\n",
       "3. 6\n",
       "4. 2\n",
       "5. 1\n",
       "6. 7\n",
       "7. 8\n",
       "8. 4\n",
       "\n",
       "\n"
      ],
      "text/plain": [
       "[1] 5 3 6 2 1 7 8 4"
      ]
     },
     "metadata": {},
     "output_type": "display_data"
    }
   ],
   "source": [
    "order(q2)"
   ]
  },
  {
   "cell_type": "code",
   "execution_count": 10,
   "metadata": {},
   "outputs": [
    {
     "data": {
      "text/html": [
       "<ol class=list-inline>\n",
       "\t<li>5</li>\n",
       "\t<li>4</li>\n",
       "\t<li>2</li>\n",
       "\t<li>8</li>\n",
       "\t<li>1</li>\n",
       "\t<li>3</li>\n",
       "\t<li>6</li>\n",
       "\t<li>7</li>\n",
       "</ol>\n"
      ],
      "text/latex": [
       "\\begin{enumerate*}\n",
       "\\item 5\n",
       "\\item 4\n",
       "\\item 2\n",
       "\\item 8\n",
       "\\item 1\n",
       "\\item 3\n",
       "\\item 6\n",
       "\\item 7\n",
       "\\end{enumerate*}\n"
      ],
      "text/markdown": [
       "1. 5\n",
       "2. 4\n",
       "3. 2\n",
       "4. 8\n",
       "5. 1\n",
       "6. 3\n",
       "7. 6\n",
       "8. 7\n",
       "\n",
       "\n"
      ],
      "text/plain": [
       "[1] 5 4 2 8 1 3 6 7"
      ]
     },
     "metadata": {},
     "output_type": "display_data"
    }
   ],
   "source": [
    "rank(q2)"
   ]
  },
  {
   "cell_type": "raw",
   "metadata": {},
   "source": [
    "Question 2 (b) Merge the data in part(a), X=A:H and Y={1:4,M,N,O,P}."
   ]
  },
  {
   "cell_type": "code",
   "execution_count": 11,
   "metadata": {},
   "outputs": [
    {
     "data": {
      "text/html": [
       "<table>\n",
       "<caption>A data.frame: 8 × 3</caption>\n",
       "<thead>\n",
       "\t<tr><th scope=col>q2</th><th scope=col>X</th><th scope=col>Y</th></tr>\n",
       "\t<tr><th scope=col>&lt;dbl&gt;</th><th scope=col>&lt;fct&gt;</th><th scope=col>&lt;fct&gt;</th></tr>\n",
       "</thead>\n",
       "<tbody>\n",
       "\t<tr><td>59</td><td>A</td><td>1</td></tr>\n",
       "\t<tr><td>48</td><td>B</td><td>2</td></tr>\n",
       "\t<tr><td>25</td><td>C</td><td>3</td></tr>\n",
       "\t<tr><td>99</td><td>D</td><td>4</td></tr>\n",
       "\t<tr><td>10</td><td>E</td><td>M</td></tr>\n",
       "\t<tr><td>34</td><td>F</td><td>N</td></tr>\n",
       "\t<tr><td>67</td><td>G</td><td>O</td></tr>\n",
       "\t<tr><td>83</td><td>H</td><td>P</td></tr>\n",
       "</tbody>\n",
       "</table>\n"
      ],
      "text/latex": [
       "A data.frame: 8 × 3\n",
       "\\begin{tabular}{r|lll}\n",
       " q2 & X & Y\\\\\n",
       " <dbl> & <fct> & <fct>\\\\\n",
       "\\hline\n",
       "\t 59 & A & 1\\\\\n",
       "\t 48 & B & 2\\\\\n",
       "\t 25 & C & 3\\\\\n",
       "\t 99 & D & 4\\\\\n",
       "\t 10 & E & M\\\\\n",
       "\t 34 & F & N\\\\\n",
       "\t 67 & G & O\\\\\n",
       "\t 83 & H & P\\\\\n",
       "\\end{tabular}\n"
      ],
      "text/markdown": [
       "\n",
       "A data.frame: 8 × 3\n",
       "\n",
       "| q2 &lt;dbl&gt; | X &lt;fct&gt; | Y &lt;fct&gt; |\n",
       "|---|---|---|\n",
       "| 59 | A | 1 |\n",
       "| 48 | B | 2 |\n",
       "| 25 | C | 3 |\n",
       "| 99 | D | 4 |\n",
       "| 10 | E | M |\n",
       "| 34 | F | N |\n",
       "| 67 | G | O |\n",
       "| 83 | H | P |\n",
       "\n"
      ],
      "text/plain": [
       "  q2 X Y\n",
       "1 59 A 1\n",
       "2 48 B 2\n",
       "3 25 C 3\n",
       "4 99 D 4\n",
       "5 10 E M\n",
       "6 34 F N\n",
       "7 67 G O\n",
       "8 83 H P"
      ]
     },
     "metadata": {},
     "output_type": "display_data"
    }
   ],
   "source": [
    "X=c(\"A\",\"B\",\"C\",\"D\",\"E\",\"F\",\"G\",\"H\")\n",
    "Y=c(1:4,\"M\",\"N\",\"O\",\"P\")\n",
    "q2b1=data.frame(q2,X,Y)\n",
    "q2b1"
   ]
  },
  {
   "cell_type": "raw",
   "metadata": {},
   "source": [
    "Question 3 (a)"
   ]
  },
  {
   "cell_type": "code",
   "execution_count": 16,
   "metadata": {},
   "outputs": [
    {
     "data": {
      "text/html": [
       "<table>\n",
       "<caption>A data.frame: 8 × 4</caption>\n",
       "<thead>\n",
       "\t<tr><th scope=col>xt</th><th scope=col>A</th><th scope=col>B</th><th scope=col>D</th></tr>\n",
       "\t<tr><th scope=col>&lt;dbl&gt;</th><th scope=col>&lt;dbl&gt;</th><th scope=col>&lt;fct&gt;</th><th scope=col>&lt;fct&gt;</th></tr>\n",
       "</thead>\n",
       "<tbody>\n",
       "\t<tr><td>59</td><td>10</td><td>Group 1</td><td>Bag X</td></tr>\n",
       "\t<tr><td>48</td><td>30</td><td>Group 3</td><td>Bag Y</td></tr>\n",
       "\t<tr><td>25</td><td>50</td><td>Group 2</td><td>Bag X</td></tr>\n",
       "\t<tr><td>99</td><td>29</td><td>Group 1</td><td>Bag Y</td></tr>\n",
       "\t<tr><td>10</td><td>23</td><td>Group 2</td><td>Bag X</td></tr>\n",
       "\t<tr><td>34</td><td>45</td><td>Group 3</td><td>Bag Y</td></tr>\n",
       "\t<tr><td>67</td><td>67</td><td>Group 1</td><td>Bag X</td></tr>\n",
       "\t<tr><td>83</td><td>35</td><td>Group 3</td><td>Bag Y</td></tr>\n",
       "</tbody>\n",
       "</table>\n"
      ],
      "text/latex": [
       "A data.frame: 8 × 4\n",
       "\\begin{tabular}{r|llll}\n",
       " xt & A & B & D\\\\\n",
       " <dbl> & <dbl> & <fct> & <fct>\\\\\n",
       "\\hline\n",
       "\t 59 & 10 & Group 1 & Bag X\\\\\n",
       "\t 48 & 30 & Group 3 & Bag Y\\\\\n",
       "\t 25 & 50 & Group 2 & Bag X\\\\\n",
       "\t 99 & 29 & Group 1 & Bag Y\\\\\n",
       "\t 10 & 23 & Group 2 & Bag X\\\\\n",
       "\t 34 & 45 & Group 3 & Bag Y\\\\\n",
       "\t 67 & 67 & Group 1 & Bag X\\\\\n",
       "\t 83 & 35 & Group 3 & Bag Y\\\\\n",
       "\\end{tabular}\n"
      ],
      "text/markdown": [
       "\n",
       "A data.frame: 8 × 4\n",
       "\n",
       "| xt &lt;dbl&gt; | A &lt;dbl&gt; | B &lt;fct&gt; | D &lt;fct&gt; |\n",
       "|---|---|---|---|\n",
       "| 59 | 10 | Group 1 | Bag X |\n",
       "| 48 | 30 | Group 3 | Bag Y |\n",
       "| 25 | 50 | Group 2 | Bag X |\n",
       "| 99 | 29 | Group 1 | Bag Y |\n",
       "| 10 | 23 | Group 2 | Bag X |\n",
       "| 34 | 45 | Group 3 | Bag Y |\n",
       "| 67 | 67 | Group 1 | Bag X |\n",
       "| 83 | 35 | Group 3 | Bag Y |\n",
       "\n"
      ],
      "text/plain": [
       "  xt A  B       D    \n",
       "1 59 10 Group 1 Bag X\n",
       "2 48 30 Group 3 Bag Y\n",
       "3 25 50 Group 2 Bag X\n",
       "4 99 29 Group 1 Bag Y\n",
       "5 10 23 Group 2 Bag X\n",
       "6 34 45 Group 3 Bag Y\n",
       "7 67 67 Group 1 Bag X\n",
       "8 83 35 Group 3 Bag Y"
      ]
     },
     "metadata": {},
     "output_type": "display_data"
    }
   ],
   "source": [
    "xt = c(59,48,25,99,10,34,67,83)\n",
    "A = c(10,30,50,29,23,45,67,35)\n",
    "B = c(\"Group 1\",\"Group 3\",\"Group 2\",\"Group 1\",\"Group 2\", \"Group 3\", \"Group 1\",\"Group 3\")\n",
    "D = gl(2,1,8,labels=c(\"Bag X\",\"Bag Y\"))\n",
    "\n",
    "library(data.table)\n",
    "data1 = data.frame(xt,A,B,D)\n",
    "data2 = data.table(xt,A,B,D)\n",
    "data1"
   ]
  },
  {
   "cell_type": "code",
   "execution_count": 15,
   "metadata": {},
   "outputs": [
    {
     "data": {
      "text/html": [
       "<table>\n",
       "<caption>A data.table: 8 × 4</caption>\n",
       "<thead>\n",
       "\t<tr><th scope=col>xt</th><th scope=col>A</th><th scope=col>B</th><th scope=col>D</th></tr>\n",
       "\t<tr><th scope=col>&lt;dbl&gt;</th><th scope=col>&lt;dbl&gt;</th><th scope=col>&lt;chr&gt;</th><th scope=col>&lt;fct&gt;</th></tr>\n",
       "</thead>\n",
       "<tbody>\n",
       "\t<tr><td>59</td><td>10</td><td>Group 1</td><td>Bag X</td></tr>\n",
       "\t<tr><td>48</td><td>30</td><td>Group 3</td><td>Bag Y</td></tr>\n",
       "\t<tr><td>25</td><td>50</td><td>Group 2</td><td>Bag X</td></tr>\n",
       "\t<tr><td>99</td><td>29</td><td>Group 1</td><td>Bag Y</td></tr>\n",
       "\t<tr><td>10</td><td>23</td><td>Group 2</td><td>Bag X</td></tr>\n",
       "\t<tr><td>34</td><td>45</td><td>Group 3</td><td>Bag Y</td></tr>\n",
       "\t<tr><td>67</td><td>67</td><td>Group 1</td><td>Bag X</td></tr>\n",
       "\t<tr><td>83</td><td>35</td><td>Group 3</td><td>Bag Y</td></tr>\n",
       "</tbody>\n",
       "</table>\n"
      ],
      "text/latex": [
       "A data.table: 8 × 4\n",
       "\\begin{tabular}{r|llll}\n",
       " xt & A & B & D\\\\\n",
       " <dbl> & <dbl> & <chr> & <fct>\\\\\n",
       "\\hline\n",
       "\t 59 & 10 & Group 1 & Bag X\\\\\n",
       "\t 48 & 30 & Group 3 & Bag Y\\\\\n",
       "\t 25 & 50 & Group 2 & Bag X\\\\\n",
       "\t 99 & 29 & Group 1 & Bag Y\\\\\n",
       "\t 10 & 23 & Group 2 & Bag X\\\\\n",
       "\t 34 & 45 & Group 3 & Bag Y\\\\\n",
       "\t 67 & 67 & Group 1 & Bag X\\\\\n",
       "\t 83 & 35 & Group 3 & Bag Y\\\\\n",
       "\\end{tabular}\n"
      ],
      "text/markdown": [
       "\n",
       "A data.table: 8 × 4\n",
       "\n",
       "| xt &lt;dbl&gt; | A &lt;dbl&gt; | B &lt;chr&gt; | D &lt;fct&gt; |\n",
       "|---|---|---|---|\n",
       "| 59 | 10 | Group 1 | Bag X |\n",
       "| 48 | 30 | Group 3 | Bag Y |\n",
       "| 25 | 50 | Group 2 | Bag X |\n",
       "| 99 | 29 | Group 1 | Bag Y |\n",
       "| 10 | 23 | Group 2 | Bag X |\n",
       "| 34 | 45 | Group 3 | Bag Y |\n",
       "| 67 | 67 | Group 1 | Bag X |\n",
       "| 83 | 35 | Group 3 | Bag Y |\n",
       "\n"
      ],
      "text/plain": [
       "  xt A  B       D    \n",
       "1 59 10 Group 1 Bag X\n",
       "2 48 30 Group 3 Bag Y\n",
       "3 25 50 Group 2 Bag X\n",
       "4 99 29 Group 1 Bag Y\n",
       "5 10 23 Group 2 Bag X\n",
       "6 34 45 Group 3 Bag Y\n",
       "7 67 67 Group 1 Bag X\n",
       "8 83 35 Group 3 Bag Y"
      ]
     },
     "metadata": {},
     "output_type": "display_data"
    }
   ],
   "source": [
    "data2"
   ]
  },
  {
   "cell_type": "raw",
   "metadata": {},
   "source": [
    "Question 3 (b)"
   ]
  },
  {
   "cell_type": "code",
   "execution_count": 17,
   "metadata": {},
   "outputs": [
    {
     "data": {
      "text/html": [
       "<dl class=dl-horizontal>\n",
       "\t<dt>Group 1</dt>\n",
       "\t\t<dd>106</dd>\n",
       "\t<dt>Group 2</dt>\n",
       "\t\t<dd>73</dd>\n",
       "\t<dt>Group 3</dt>\n",
       "\t\t<dd>110</dd>\n",
       "</dl>\n"
      ],
      "text/latex": [
       "\\begin{description*}\n",
       "\\item[Group 1] 106\n",
       "\\item[Group 2] 73\n",
       "\\item[Group 3] 110\n",
       "\\end{description*}\n"
      ],
      "text/markdown": [
       "Group 1\n",
       ":   106Group 2\n",
       ":   73Group 3\n",
       ":   110\n",
       "\n"
      ],
      "text/plain": [
       "Group 1 Group 2 Group 3 \n",
       "    106      73     110 "
      ]
     },
     "metadata": {},
     "output_type": "display_data"
    }
   ],
   "source": [
    "tapply(A,B,sum)\n"
   ]
  },
  {
   "cell_type": "code",
   "execution_count": 18,
   "metadata": {},
   "outputs": [
    {
     "data": {
      "text/html": [
       "<table>\n",
       "<caption>A data.frame: 4 × 3</caption>\n",
       "<thead>\n",
       "\t<tr><th scope=col>Group.1</th><th scope=col>Group.2</th><th scope=col>x</th></tr>\n",
       "\t<tr><th scope=col>&lt;chr&gt;</th><th scope=col>&lt;fct&gt;</th><th scope=col>&lt;dbl&gt;</th></tr>\n",
       "</thead>\n",
       "<tbody>\n",
       "\t<tr><td>Group 1</td><td>Bag X</td><td> 77</td></tr>\n",
       "\t<tr><td>Group 2</td><td>Bag X</td><td> 73</td></tr>\n",
       "\t<tr><td>Group 1</td><td>Bag Y</td><td> 29</td></tr>\n",
       "\t<tr><td>Group 3</td><td>Bag Y</td><td>110</td></tr>\n",
       "</tbody>\n",
       "</table>\n"
      ],
      "text/latex": [
       "A data.frame: 4 × 3\n",
       "\\begin{tabular}{r|lll}\n",
       " Group.1 & Group.2 & x\\\\\n",
       " <chr> & <fct> & <dbl>\\\\\n",
       "\\hline\n",
       "\t Group 1 & Bag X &  77\\\\\n",
       "\t Group 2 & Bag X &  73\\\\\n",
       "\t Group 1 & Bag Y &  29\\\\\n",
       "\t Group 3 & Bag Y & 110\\\\\n",
       "\\end{tabular}\n"
      ],
      "text/markdown": [
       "\n",
       "A data.frame: 4 × 3\n",
       "\n",
       "| Group.1 &lt;chr&gt; | Group.2 &lt;fct&gt; | x &lt;dbl&gt; |\n",
       "|---|---|---|\n",
       "| Group 1 | Bag X |  77 |\n",
       "| Group 2 | Bag X |  73 |\n",
       "| Group 1 | Bag Y |  29 |\n",
       "| Group 3 | Bag Y | 110 |\n",
       "\n"
      ],
      "text/plain": [
       "  Group.1 Group.2 x  \n",
       "1 Group 1 Bag X    77\n",
       "2 Group 2 Bag X    73\n",
       "3 Group 1 Bag Y    29\n",
       "4 Group 3 Bag Y   110"
      ]
     },
     "metadata": {},
     "output_type": "display_data"
    }
   ],
   "source": [
    "aggregate(A,by=list(B,D),sum)\n"
   ]
  },
  {
   "cell_type": "code",
   "execution_count": 19,
   "metadata": {},
   "outputs": [
    {
     "data": {
      "text/html": [
       "<table>\n",
       "<caption>A data.table: 3 × 2</caption>\n",
       "<thead>\n",
       "\t<tr><th scope=col>Group.1</th><th scope=col>x</th></tr>\n",
       "\t<tr><th scope=col>&lt;chr&gt;</th><th scope=col>&lt;dbl&gt;</th></tr>\n",
       "</thead>\n",
       "<tbody>\n",
       "\t<tr><td>Group 1</td><td>225</td></tr>\n",
       "\t<tr><td>Group 2</td><td> 35</td></tr>\n",
       "\t<tr><td>Group 3</td><td>165</td></tr>\n",
       "</tbody>\n",
       "</table>\n"
      ],
      "text/latex": [
       "A data.table: 3 × 2\n",
       "\\begin{tabular}{r|ll}\n",
       " Group.1 & x\\\\\n",
       " <chr> & <dbl>\\\\\n",
       "\\hline\n",
       "\t Group 1 & 225\\\\\n",
       "\t Group 2 &  35\\\\\n",
       "\t Group 3 & 165\\\\\n",
       "\\end{tabular}\n"
      ],
      "text/markdown": [
       "\n",
       "A data.table: 3 × 2\n",
       "\n",
       "| Group.1 &lt;chr&gt; | x &lt;dbl&gt; |\n",
       "|---|---|\n",
       "| Group 1 | 225 |\n",
       "| Group 2 |  35 |\n",
       "| Group 3 | 165 |\n",
       "\n"
      ],
      "text/plain": [
       "  Group.1 x  \n",
       "1 Group 1 225\n",
       "2 Group 2  35\n",
       "3 Group 3 165"
      ]
     },
     "metadata": {},
     "output_type": "display_data"
    }
   ],
   "source": [
    "library(data.table)\n",
    "data.table(aggregate(xt,by=list(B),sum))\n"
   ]
  },
  {
   "cell_type": "code",
   "execution_count": 20,
   "metadata": {},
   "outputs": [
    {
     "data": {
      "text/html": [
       "<table>\n",
       "<caption>A data.table: 2 × 2</caption>\n",
       "<thead>\n",
       "\t<tr><th scope=col>Group.1</th><th scope=col>x</th></tr>\n",
       "\t<tr><th scope=col>&lt;fct&gt;</th><th scope=col>&lt;dbl&gt;</th></tr>\n",
       "</thead>\n",
       "<tbody>\n",
       "\t<tr><td>Bag X</td><td>161</td></tr>\n",
       "\t<tr><td>Bag Y</td><td>264</td></tr>\n",
       "</tbody>\n",
       "</table>\n"
      ],
      "text/latex": [
       "A data.table: 2 × 2\n",
       "\\begin{tabular}{r|ll}\n",
       " Group.1 & x\\\\\n",
       " <fct> & <dbl>\\\\\n",
       "\\hline\n",
       "\t Bag X & 161\\\\\n",
       "\t Bag Y & 264\\\\\n",
       "\\end{tabular}\n"
      ],
      "text/markdown": [
       "\n",
       "A data.table: 2 × 2\n",
       "\n",
       "| Group.1 &lt;fct&gt; | x &lt;dbl&gt; |\n",
       "|---|---|\n",
       "| Bag X | 161 |\n",
       "| Bag Y | 264 |\n",
       "\n"
      ],
      "text/plain": [
       "  Group.1 x  \n",
       "1 Bag X   161\n",
       "2 Bag Y   264"
      ]
     },
     "metadata": {},
     "output_type": "display_data"
    }
   ],
   "source": [
    "data.table(aggregate(xt,by=list(D),sum))\n"
   ]
  },
  {
   "cell_type": "code",
   "execution_count": 21,
   "metadata": {},
   "outputs": [
    {
     "data": {
      "text/html": [
       "<table>\n",
       "<caption>A data.table: 4 × 3</caption>\n",
       "<thead>\n",
       "\t<tr><th scope=col>Group.1</th><th scope=col>Group.2</th><th scope=col>x</th></tr>\n",
       "\t<tr><th scope=col>&lt;chr&gt;</th><th scope=col>&lt;fct&gt;</th><th scope=col>&lt;dbl&gt;</th></tr>\n",
       "</thead>\n",
       "<tbody>\n",
       "\t<tr><td>Group 1</td><td>Bag X</td><td> 77</td></tr>\n",
       "\t<tr><td>Group 2</td><td>Bag X</td><td> 73</td></tr>\n",
       "\t<tr><td>Group 1</td><td>Bag Y</td><td> 29</td></tr>\n",
       "\t<tr><td>Group 3</td><td>Bag Y</td><td>110</td></tr>\n",
       "</tbody>\n",
       "</table>\n"
      ],
      "text/latex": [
       "A data.table: 4 × 3\n",
       "\\begin{tabular}{r|lll}\n",
       " Group.1 & Group.2 & x\\\\\n",
       " <chr> & <fct> & <dbl>\\\\\n",
       "\\hline\n",
       "\t Group 1 & Bag X &  77\\\\\n",
       "\t Group 2 & Bag X &  73\\\\\n",
       "\t Group 1 & Bag Y &  29\\\\\n",
       "\t Group 3 & Bag Y & 110\\\\\n",
       "\\end{tabular}\n"
      ],
      "text/markdown": [
       "\n",
       "A data.table: 4 × 3\n",
       "\n",
       "| Group.1 &lt;chr&gt; | Group.2 &lt;fct&gt; | x &lt;dbl&gt; |\n",
       "|---|---|---|\n",
       "| Group 1 | Bag X |  77 |\n",
       "| Group 2 | Bag X |  73 |\n",
       "| Group 1 | Bag Y |  29 |\n",
       "| Group 3 | Bag Y | 110 |\n",
       "\n"
      ],
      "text/plain": [
       "  Group.1 Group.2 x  \n",
       "1 Group 1 Bag X    77\n",
       "2 Group 2 Bag X    73\n",
       "3 Group 1 Bag Y    29\n",
       "4 Group 3 Bag Y   110"
      ]
     },
     "metadata": {},
     "output_type": "display_data"
    }
   ],
   "source": [
    "data.table(aggregate(A,by=list(B,D),sum))\n"
   ]
  },
  {
   "cell_type": "code",
   "execution_count": null,
   "metadata": {},
   "outputs": [],
   "source": []
  }
 ],
 "metadata": {
  "kernelspec": {
   "display_name": "R",
   "language": "R",
   "name": "ir"
  },
  "language_info": {
   "codemirror_mode": "r",
   "file_extension": ".r",
   "mimetype": "text/x-r-source",
   "name": "R",
   "pygments_lexer": "r",
   "version": "3.6.1"
  }
 },
 "nbformat": 4,
 "nbformat_minor": 2
}
