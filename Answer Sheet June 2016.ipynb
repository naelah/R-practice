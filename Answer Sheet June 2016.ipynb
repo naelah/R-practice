{
 "cells": [
  {
   "cell_type": "code",
   "execution_count": 1,
   "metadata": {},
   "outputs": [
    {
     "data": {
      "text/html": [
       "<ol class=list-inline>\n",
       "\t<li>8</li>\n",
       "\t<li>8</li>\n",
       "\t<li>8</li>\n",
       "\t<li>10</li>\n",
       "\t<li>10</li>\n",
       "\t<li>10</li>\n",
       "\t<li>11</li>\n",
       "\t<li>11</li>\n",
       "\t<li>11</li>\n",
       "\t<li>11</li>\n",
       "\t<li>11</li>\n",
       "\t<li>3</li>\n",
       "\t<li>3</li>\n",
       "\t<li>3</li>\n",
       "\t<li>3</li>\n",
       "\t<li>3</li>\n",
       "\t<li>3</li>\n",
       "\t<li>3</li>\n",
       "</ol>\n"
      ],
      "text/latex": [
       "\\begin{enumerate*}\n",
       "\\item 8\n",
       "\\item 8\n",
       "\\item 8\n",
       "\\item 10\n",
       "\\item 10\n",
       "\\item 10\n",
       "\\item 11\n",
       "\\item 11\n",
       "\\item 11\n",
       "\\item 11\n",
       "\\item 11\n",
       "\\item 3\n",
       "\\item 3\n",
       "\\item 3\n",
       "\\item 3\n",
       "\\item 3\n",
       "\\item 3\n",
       "\\item 3\n",
       "\\end{enumerate*}\n"
      ],
      "text/markdown": [
       "1. 8\n",
       "2. 8\n",
       "3. 8\n",
       "4. 10\n",
       "5. 10\n",
       "6. 10\n",
       "7. 11\n",
       "8. 11\n",
       "9. 11\n",
       "10. 11\n",
       "11. 11\n",
       "12. 3\n",
       "13. 3\n",
       "14. 3\n",
       "15. 3\n",
       "16. 3\n",
       "17. 3\n",
       "18. 3\n",
       "\n",
       "\n"
      ],
      "text/plain": [
       " [1]  8  8  8 10 10 10 11 11 11 11 11  3  3  3  3  3  3  3"
      ]
     },
     "metadata": {},
     "output_type": "display_data"
    }
   ],
   "source": [
    "#Q1(a)\n",
    "\n",
    "rep(c(8,10,11,3), c(3,3,5,7))"
   ]
  },
  {
   "cell_type": "code",
   "execution_count": 2,
   "metadata": {},
   "outputs": [
    {
     "data": {
      "text/html": [
       "<ol class=list-inline>\n",
       "\t<li>25</li>\n",
       "\t<li>35</li>\n",
       "\t<li>42</li>\n",
       "\t<li>56</li>\n",
       "\t<li>75</li>\n",
       "\t<li>86</li>\n",
       "\t<li>100</li>\n",
       "</ol>\n"
      ],
      "text/latex": [
       "\\begin{enumerate*}\n",
       "\\item 25\n",
       "\\item 35\n",
       "\\item 42\n",
       "\\item 56\n",
       "\\item 75\n",
       "\\item 86\n",
       "\\item 100\n",
       "\\end{enumerate*}\n"
      ],
      "text/markdown": [
       "1. 25\n",
       "2. 35\n",
       "3. 42\n",
       "4. 56\n",
       "5. 75\n",
       "6. 86\n",
       "7. 100\n",
       "\n",
       "\n"
      ],
      "text/plain": [
       "[1]  25  35  42  56  75  86 100"
      ]
     },
     "metadata": {},
     "output_type": "display_data"
    },
    {
     "data": {
      "text/html": [
       "<ol class=list-inline>\n",
       "\t<li>3</li>\n",
       "\t<li>6</li>\n",
       "\t<li>7</li>\n",
       "\t<li>4</li>\n",
       "\t<li>5</li>\n",
       "\t<li>1</li>\n",
       "\t<li>2</li>\n",
       "</ol>\n"
      ],
      "text/latex": [
       "\\begin{enumerate*}\n",
       "\\item 3\n",
       "\\item 6\n",
       "\\item 7\n",
       "\\item 4\n",
       "\\item 5\n",
       "\\item 1\n",
       "\\item 2\n",
       "\\end{enumerate*}\n"
      ],
      "text/markdown": [
       "1. 3\n",
       "2. 6\n",
       "3. 7\n",
       "4. 4\n",
       "5. 5\n",
       "6. 1\n",
       "7. 2\n",
       "\n",
       "\n"
      ],
      "text/plain": [
       "[1] 3 6 7 4 5 1 2"
      ]
     },
     "metadata": {},
     "output_type": "display_data"
    },
    {
     "data": {
      "text/html": [
       "<ol class=list-inline>\n",
       "\t<li>6</li>\n",
       "\t<li>7</li>\n",
       "\t<li>1</li>\n",
       "\t<li>4</li>\n",
       "\t<li>5</li>\n",
       "\t<li>2</li>\n",
       "\t<li>3</li>\n",
       "</ol>\n"
      ],
      "text/latex": [
       "\\begin{enumerate*}\n",
       "\\item 6\n",
       "\\item 7\n",
       "\\item 1\n",
       "\\item 4\n",
       "\\item 5\n",
       "\\item 2\n",
       "\\item 3\n",
       "\\end{enumerate*}\n"
      ],
      "text/markdown": [
       "1. 6\n",
       "2. 7\n",
       "3. 1\n",
       "4. 4\n",
       "5. 5\n",
       "6. 2\n",
       "7. 3\n",
       "\n",
       "\n"
      ],
      "text/plain": [
       "[1] 6 7 1 4 5 2 3"
      ]
     },
     "metadata": {},
     "output_type": "display_data"
    }
   ],
   "source": [
    "#Q1(b)\n",
    "q1b = c(86,100,25,56,75,35,42)\n",
    "\n",
    "sort(q1b)\n",
    "order(q1b)\n",
    "rank(q1b)"
   ]
  },
  {
   "cell_type": "code",
   "execution_count": 5,
   "metadata": {},
   "outputs": [
    {
     "data": {
      "text/html": [
       "<table>\n",
       "<caption>A data.frame: 20 × 3</caption>\n",
       "<thead>\n",
       "\t<tr><th scope=col>q1c1</th><th scope=col>q1c2</th><th scope=col>q1c3</th></tr>\n",
       "\t<tr><th scope=col>&lt;fct&gt;</th><th scope=col>&lt;fct&gt;</th><th scope=col>&lt;fct&gt;</th></tr>\n",
       "</thead>\n",
       "<tbody>\n",
       "\t<tr><td>A</td><td>Blue </td><td>Inner</td></tr>\n",
       "\t<tr><td>A</td><td>Blue </td><td>Inner</td></tr>\n",
       "\t<tr><td>A</td><td>Blue </td><td>Inner</td></tr>\n",
       "\t<tr><td>A</td><td>Blue </td><td>Inner</td></tr>\n",
       "\t<tr><td>A</td><td>Red  </td><td>Inner</td></tr>\n",
       "\t<tr><td>B</td><td>Red  </td><td>Inner</td></tr>\n",
       "\t<tr><td>B</td><td>Red  </td><td>Inner</td></tr>\n",
       "\t<tr><td>B</td><td>Red  </td><td>Inner</td></tr>\n",
       "\t<tr><td>B</td><td>Green</td><td>Inner</td></tr>\n",
       "\t<tr><td>B</td><td>Green</td><td>Inner</td></tr>\n",
       "\t<tr><td>C</td><td>Green</td><td>Outer</td></tr>\n",
       "\t<tr><td>C</td><td>Green</td><td>Outer</td></tr>\n",
       "\t<tr><td>C</td><td>White</td><td>Outer</td></tr>\n",
       "\t<tr><td>C</td><td>White</td><td>Outer</td></tr>\n",
       "\t<tr><td>C</td><td>White</td><td>Outer</td></tr>\n",
       "\t<tr><td>D</td><td>White</td><td>Outer</td></tr>\n",
       "\t<tr><td>D</td><td>Black</td><td>Outer</td></tr>\n",
       "\t<tr><td>D</td><td>Black</td><td>Outer</td></tr>\n",
       "\t<tr><td>D</td><td>Black</td><td>Outer</td></tr>\n",
       "\t<tr><td>D</td><td>Black</td><td>Outer</td></tr>\n",
       "</tbody>\n",
       "</table>\n"
      ],
      "text/latex": [
       "A data.frame: 20 × 3\n",
       "\\begin{tabular}{r|lll}\n",
       " q1c1 & q1c2 & q1c3\\\\\n",
       " <fct> & <fct> & <fct>\\\\\n",
       "\\hline\n",
       "\t A & Blue  & Inner\\\\\n",
       "\t A & Blue  & Inner\\\\\n",
       "\t A & Blue  & Inner\\\\\n",
       "\t A & Blue  & Inner\\\\\n",
       "\t A & Red   & Inner\\\\\n",
       "\t B & Red   & Inner\\\\\n",
       "\t B & Red   & Inner\\\\\n",
       "\t B & Red   & Inner\\\\\n",
       "\t B & Green & Inner\\\\\n",
       "\t B & Green & Inner\\\\\n",
       "\t C & Green & Outer\\\\\n",
       "\t C & Green & Outer\\\\\n",
       "\t C & White & Outer\\\\\n",
       "\t C & White & Outer\\\\\n",
       "\t C & White & Outer\\\\\n",
       "\t D & White & Outer\\\\\n",
       "\t D & Black & Outer\\\\\n",
       "\t D & Black & Outer\\\\\n",
       "\t D & Black & Outer\\\\\n",
       "\t D & Black & Outer\\\\\n",
       "\\end{tabular}\n"
      ],
      "text/markdown": [
       "\n",
       "A data.frame: 20 × 3\n",
       "\n",
       "| q1c1 &lt;fct&gt; | q1c2 &lt;fct&gt; | q1c3 &lt;fct&gt; |\n",
       "|---|---|---|\n",
       "| A | Blue  | Inner |\n",
       "| A | Blue  | Inner |\n",
       "| A | Blue  | Inner |\n",
       "| A | Blue  | Inner |\n",
       "| A | Red   | Inner |\n",
       "| B | Red   | Inner |\n",
       "| B | Red   | Inner |\n",
       "| B | Red   | Inner |\n",
       "| B | Green | Inner |\n",
       "| B | Green | Inner |\n",
       "| C | Green | Outer |\n",
       "| C | Green | Outer |\n",
       "| C | White | Outer |\n",
       "| C | White | Outer |\n",
       "| C | White | Outer |\n",
       "| D | White | Outer |\n",
       "| D | Black | Outer |\n",
       "| D | Black | Outer |\n",
       "| D | Black | Outer |\n",
       "| D | Black | Outer |\n",
       "\n"
      ],
      "text/plain": [
       "   q1c1 q1c2  q1c3 \n",
       "1  A    Blue  Inner\n",
       "2  A    Blue  Inner\n",
       "3  A    Blue  Inner\n",
       "4  A    Blue  Inner\n",
       "5  A    Red   Inner\n",
       "6  B    Red   Inner\n",
       "7  B    Red   Inner\n",
       "8  B    Red   Inner\n",
       "9  B    Green Inner\n",
       "10 B    Green Inner\n",
       "11 C    Green Outer\n",
       "12 C    Green Outer\n",
       "13 C    White Outer\n",
       "14 C    White Outer\n",
       "15 C    White Outer\n",
       "16 D    White Outer\n",
       "17 D    Black Outer\n",
       "18 D    Black Outer\n",
       "19 D    Black Outer\n",
       "20 D    Black Outer"
      ]
     },
     "metadata": {},
     "output_type": "display_data"
    }
   ],
   "source": [
    "#Q1(c)\n",
    "q1c1 = gl(4,5,20,labels=c(\"A\",\"B\",\"C\",\"D\"))\n",
    "q1c2 = gl(5,4,20,labels=c(\"Blue\",\"Red\",\"Green\",\"White\",\"Black\"))\n",
    "q1c3 = gl(2,10,20,labels=c(\"Inner\",\"Outer\"))\n",
    "q1c = data.frame(q1c1,q1c2,q1c3)\n",
    "q1c"
   ]
  },
  {
   "cell_type": "code",
   "execution_count": 4,
   "metadata": {},
   "outputs": [],
   "source": [
    "#Q1(D) Generate random sample\n",
    "data.1 = sample(0:1,30,replace=T)\n",
    "data.1"
   ]
  },
  {
   "cell_type": "code",
   "execution_count": 6,
   "metadata": {},
   "outputs": [
    {
     "data": {
      "text/html": [
       "0.366666666666667"
      ],
      "text/latex": [
       "0.366666666666667"
      ],
      "text/markdown": [
       "0.366666666666667"
      ],
      "text/plain": [
       "[1] 0.3666667"
      ]
     },
     "metadata": {},
     "output_type": "display_data"
    }
   ],
   "source": [
    "#########################INCOMPLETE#####################################\n",
    "\n",
    "#Q1(E) Compute probability of sample\n",
    "sum(data.1 == 1)/length(data.1)"
   ]
  },
  {
   "cell_type": "code",
   "execution_count": 7,
   "metadata": {},
   "outputs": [],
   "source": [
    "#########################INCOMPLETE#####################################\n",
    "\n",
    "#Q1(F) Generate 50 samples of probability of success for data obtained in D\n",
    "\n",
    "find.pr=function(dtx,S)\n",
    "    {\n",
    "    n=50\n",
    "    prob.b=numeric(S)\n",
    "    set.seed(100)\n",
    "    for(b in 1:S)\n",
    "        {\n",
    "        }\n",
    "    \n",
    "    }\n",
    "find.pr(data.1,50)"
   ]
  },
  {
   "cell_type": "code",
   "execution_count": 16,
   "metadata": {},
   "outputs": [
    {
     "name": "stderr",
     "output_type": "stream",
     "text": [
      "Installing package into 'C:/Users/naela/Documents/R/win-library/3.6'\n",
      "(as 'lib' is unspecified)\n",
      "\n"
     ]
    },
    {
     "name": "stdout",
     "output_type": "stream",
     "text": [
      "package 'vcd' successfully unpacked and MD5 sums checked\n",
      "\n",
      "The downloaded binary packages are in\n",
      "\tC:\\Users\\naela\\AppData\\Local\\Temp\\RtmpMnInQd\\downloaded_packages\n",
      "'data.frame':\t112 obs. of  13 variables:\n",
      " $ maxO3 : int  87 82 92 114 94 80 79 79 101 106 ...\n",
      " $ T9    : num  15.6 17 15.3 16.2 17.4 17.7 16.8 14.9 16.1 18.3 ...\n",
      " $ T12   : num  18.5 18.4 17.6 19.7 20.5 19.8 15.6 17.5 19.6 21.9 ...\n",
      " $ T15   : num  18.4 17.7 19.5 22.5 20.4 18.3 14.9 18.9 21.4 22.9 ...\n",
      " $ Ne9   : int  4 5 2 1 8 6 7 5 2 5 ...\n",
      " $ Ne12  : int  4 5 5 1 8 6 8 5 4 6 ...\n",
      " $ Ne15  : int  8 7 4 0 7 7 8 4 4 8 ...\n",
      " $ Wx9   : num  0.695 -4.33 2.954 0.985 -0.5 ...\n",
      " $ Wx12  : num  -1.71 -4 1.879 0.347 -2.954 ...\n",
      " $ Wx15  : num  -0.695 -3 0.521 -0.174 -4.33 ...\n",
      " $ maxO3y: int  84 87 82 92 114 94 80 99 79 101 ...\n",
      " $ wind  : Factor w/ 4 levels \"East\",\"North\",..: 2 2 1 2 4 4 4 2 2 4 ...\n",
      " $ rain  : Factor w/ 2 levels \"Dry\",\"Rainy\": 1 1 1 1 1 2 1 1 1 1 ...\n"
     ]
    }
   ],
   "source": [
    "#Q2\n",
    "install.packages('vcd')\n",
    "ozone = read.table('ozone.txt')\n",
    "str(ozone)"
   ]
  },
  {
   "cell_type": "code",
   "execution_count": 13,
   "metadata": {},
   "outputs": [
    {
     "data": {
      "text/plain": [
       "     maxO3              T9             T12             T15       \n",
       " Min.   : 42.00   Min.   :11.30   Min.   :14.00   Min.   :14.90  \n",
       " 1st Qu.: 70.75   1st Qu.:16.20   1st Qu.:18.60   1st Qu.:19.27  \n",
       " Median : 81.50   Median :17.80   Median :20.55   Median :22.05  \n",
       " Mean   : 90.30   Mean   :18.36   Mean   :21.53   Mean   :22.63  \n",
       " 3rd Qu.:106.00   3rd Qu.:19.93   3rd Qu.:23.55   3rd Qu.:25.40  \n",
       " Max.   :166.00   Max.   :27.00   Max.   :33.50   Max.   :35.50  \n",
       "      Ne9             Ne12            Ne15           Wx9         \n",
       " Min.   :0.000   Min.   :0.000   Min.   :0.00   Min.   :-7.8785  \n",
       " 1st Qu.:3.000   1st Qu.:4.000   1st Qu.:3.00   1st Qu.:-3.2765  \n",
       " Median :6.000   Median :5.000   Median :5.00   Median :-0.8660  \n",
       " Mean   :4.929   Mean   :5.018   Mean   :4.83   Mean   :-1.2143  \n",
       " 3rd Qu.:7.000   3rd Qu.:7.000   3rd Qu.:7.00   3rd Qu.: 0.6946  \n",
       " Max.   :8.000   Max.   :8.000   Max.   :8.00   Max.   : 5.1962  \n",
       "      Wx12             Wx15            maxO3y          wind       rain   \n",
       " Min.   :-7.878   Min.   :-9.000   Min.   : 42.00   East :10   Dry  :69  \n",
       " 1st Qu.:-3.565   1st Qu.:-3.939   1st Qu.: 71.00   North:31   Rainy:43  \n",
       " Median :-1.879   Median :-1.550   Median : 82.50   South:21             \n",
       " Mean   :-1.611   Mean   :-1.691   Mean   : 90.57   West :50             \n",
       " 3rd Qu.: 0.000   3rd Qu.: 0.000   3rd Qu.:106.00                        \n",
       " Max.   : 6.578   Max.   : 5.000   Max.   :166.00                        "
      ]
     },
     "metadata": {},
     "output_type": "display_data"
    }
   ],
   "source": [
    "#########################INCOMPLETE#####################################\n",
    "\n",
    "#Q2(a) \n",
    "summary(ozone)"
   ]
  },
  {
   "cell_type": "code",
   "execution_count": 18,
   "metadata": {},
   "outputs": [
    {
     "ename": "ERROR",
     "evalue": "Error in loglin(x, expected, fit = TRUE, print = FALSE): (list) object cannot be coerced to type 'double'\n",
     "output_type": "error",
     "traceback": [
      "Error in loglin(x, expected, fit = TRUE, print = FALSE): (list) object cannot be coerced to type 'double'\nTraceback:\n",
      "1. mosaic(ozone)",
      "2. mosaic.default(ozone)",
      "3. strucplot(x, condvars = if (is.null(condvars)) NULL else length(condvars), \n .     core = struc_mosaic(zero_size = zero_size, zero_split = zero_split, \n .         zero_shade = zero_shade, zero_gp = zero_gp, panel = panel), \n .     split_vertical = split_vertical, spacing = spacing, spacing_args = spacing_args, \n .     gp = gp, expected = expected, shade = shade, main = main, \n .     sub = sub, ...)",
      "4. loglin(x, expected, fit = TRUE, print = FALSE)"
     ]
    },
    {
     "data": {
      "image/png": "[encoded data removed]",
      "text/plain": [
       "plot without title"
      ]
     },
     "metadata": {
      "image/png": {
       "height": 420,
       "width": 420
      },
      "text/plain": {
       "height": 420,
       "width": 420
      }
     },
     "output_type": "display_data"
    }
   ],
   "source": [
    "#########################INCOMPLETE#####################################\n",
    "\n",
    "#Q2(b) Produce a boxplot and a mosaic plot\n",
    "library(vcd)\n",
    "par(mfrow=c(1,2))\n",
    "boxplot(ozone)\n",
    "mosaic(ozone)\n",
    "\n",
    "#Comment on the plot"
   ]
  },
  {
   "cell_type": "code",
   "execution_count": null,
   "metadata": {},
   "outputs": [],
   "source": [
    "#Q2(d) Produce descriptive statistics"
   ]
  }
 ],
 "metadata": {
  "kernelspec": {
   "display_name": "R",
   "language": "R",
   "name": "ir"
  },
  "language_info": {
   "codemirror_mode": "r",
   "file_extension": ".r",
   "mimetype": "text/x-r-source",
   "name": "R",
   "pygments_lexer": "r",
   "version": "3.6.1"
  }
 },
 "nbformat": 4,
 "nbformat_minor": 2
}
