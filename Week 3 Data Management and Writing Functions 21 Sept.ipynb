{
 "cells": [
  {
   "cell_type": "code",
   "execution_count": 5,
   "metadata": {},
   "outputs": [
    {
     "data": {
      "text/html": [
       "<ol class=list-inline>\n",
       "\t<li>1</li>\n",
       "\t<li>1</li>\n",
       "\t<li>1</li>\n",
       "\t<li>1</li>\n",
       "\t<li>1</li>\n",
       "\t<li>1</li>\n",
       "\t<li>1</li>\n",
       "\t<li>1</li>\n",
       "\t<li>1</li>\n",
       "\t<li>1</li>\n",
       "</ol>\n"
      ],
      "text/latex": [
       "\\begin{enumerate*}\n",
       "\\item 1\n",
       "\\item 1\n",
       "\\item 1\n",
       "\\item 1\n",
       "\\item 1\n",
       "\\item 1\n",
       "\\item 1\n",
       "\\item 1\n",
       "\\item 1\n",
       "\\item 1\n",
       "\\end{enumerate*}\n"
      ],
      "text/markdown": [
       "1. 1\n",
       "2. 1\n",
       "3. 1\n",
       "4. 1\n",
       "5. 1\n",
       "6. 1\n",
       "7. 1\n",
       "8. 1\n",
       "9. 1\n",
       "10. 1\n",
       "\n",
       "\n"
      ],
      "text/plain": [
       " [1] 1 1 1 1 1 1 1 1 1 1"
      ]
     },
     "metadata": {},
     "output_type": "display_data"
    }
   ],
   "source": [
    "rep(1,10)"
   ]
  },
  {
   "cell_type": "code",
   "execution_count": 6,
   "metadata": {
    "scrolled": true
   },
   "outputs": [
    {
     "data": {
      "text/html": [
       "<ol class=list-inline>\n",
       "\t<li>1</li>\n",
       "\t<li>3</li>\n",
       "\t<li>1</li>\n",
       "\t<li>3</li>\n",
       "\t<li>1</li>\n",
       "\t<li>3</li>\n",
       "\t<li>1</li>\n",
       "\t<li>3</li>\n",
       "\t<li>1</li>\n",
       "\t<li>3</li>\n",
       "\t<li>1</li>\n",
       "\t<li>3</li>\n",
       "\t<li>1</li>\n",
       "\t<li>3</li>\n",
       "\t<li>1</li>\n",
       "\t<li>3</li>\n",
       "\t<li>1</li>\n",
       "\t<li>3</li>\n",
       "\t<li>1</li>\n",
       "\t<li>3</li>\n",
       "</ol>\n"
      ],
      "text/latex": [
       "\\begin{enumerate*}\n",
       "\\item 1\n",
       "\\item 3\n",
       "\\item 1\n",
       "\\item 3\n",
       "\\item 1\n",
       "\\item 3\n",
       "\\item 1\n",
       "\\item 3\n",
       "\\item 1\n",
       "\\item 3\n",
       "\\item 1\n",
       "\\item 3\n",
       "\\item 1\n",
       "\\item 3\n",
       "\\item 1\n",
       "\\item 3\n",
       "\\item 1\n",
       "\\item 3\n",
       "\\item 1\n",
       "\\item 3\n",
       "\\end{enumerate*}\n"
      ],
      "text/markdown": [
       "1. 1\n",
       "2. 3\n",
       "3. 1\n",
       "4. 3\n",
       "5. 1\n",
       "6. 3\n",
       "7. 1\n",
       "8. 3\n",
       "9. 1\n",
       "10. 3\n",
       "11. 1\n",
       "12. 3\n",
       "13. 1\n",
       "14. 3\n",
       "15. 1\n",
       "16. 3\n",
       "17. 1\n",
       "18. 3\n",
       "19. 1\n",
       "20. 3\n",
       "\n",
       "\n"
      ],
      "text/plain": [
       " [1] 1 3 1 3 1 3 1 3 1 3 1 3 1 3 1 3 1 3 1 3"
      ]
     },
     "metadata": {},
     "output_type": "display_data"
    }
   ],
   "source": [
    "rep(c(1,3),10)"
   ]
  },
  {
   "cell_type": "code",
   "execution_count": 7,
   "metadata": {},
   "outputs": [
    {
     "data": {
      "text/html": [
       "<ol class=list-inline>\n",
       "\t<li>10</li>\n",
       "\t<li>10</li>\n",
       "\t<li>10</li>\n",
       "\t<li>12</li>\n",
       "\t<li>12</li>\n",
       "\t<li>13</li>\n",
       "\t<li>13</li>\n",
       "\t<li>13</li>\n",
       "\t<li>13</li>\n",
       "</ol>\n"
      ],
      "text/latex": [
       "\\begin{enumerate*}\n",
       "\\item 10\n",
       "\\item 10\n",
       "\\item 10\n",
       "\\item 12\n",
       "\\item 12\n",
       "\\item 13\n",
       "\\item 13\n",
       "\\item 13\n",
       "\\item 13\n",
       "\\end{enumerate*}\n"
      ],
      "text/markdown": [
       "1. 10\n",
       "2. 10\n",
       "3. 10\n",
       "4. 12\n",
       "5. 12\n",
       "6. 13\n",
       "7. 13\n",
       "8. 13\n",
       "9. 13\n",
       "\n",
       "\n"
      ],
      "text/plain": [
       "[1] 10 10 10 12 12 13 13 13 13"
      ]
     },
     "metadata": {},
     "output_type": "display_data"
    }
   ],
   "source": [
    "x1=rep(c(10,12,13),c(3,2,4))\n",
    "x1"
   ]
  },
  {
   "cell_type": "code",
   "execution_count": 8,
   "metadata": {},
   "outputs": [
    {
     "data": {
      "text/plain": [
       "   Min. 1st Qu.  Median    Mean 3rd Qu.    Max. \n",
       "  10.00   10.00   12.00   11.78   13.00   13.00 "
      ]
     },
     "metadata": {},
     "output_type": "display_data"
    }
   ],
   "source": [
    "summary(x1)"
   ]
  },
  {
   "cell_type": "code",
   "execution_count": 9,
   "metadata": {},
   "outputs": [
    {
     "data": {
      "text/html": [
       "<ol class=list-inline>\n",
       "\t<li>10</li>\n",
       "\t<li>10</li>\n",
       "\t<li>10</li>\n",
       "\t<li>12</li>\n",
       "\t<li>12</li>\n",
       "\t<li>13</li>\n",
       "\t<li>13</li>\n",
       "\t<li>13</li>\n",
       "\t<li>13</li>\n",
       "</ol>\n",
       "\n",
       "<details>\n",
       "\t<summary style=display:list-item;cursor:pointer>\n",
       "\t\t<strong>Levels</strong>:\n",
       "\t</summary>\n",
       "\t<ol class=list-inline>\n",
       "\t\t<li>'10'</li>\n",
       "\t\t<li>'12'</li>\n",
       "\t\t<li>'13'</li>\n",
       "\t</ol>\n",
       "</details>"
      ],
      "text/latex": [
       "\\begin{enumerate*}\n",
       "\\item 10\n",
       "\\item 10\n",
       "\\item 10\n",
       "\\item 12\n",
       "\\item 12\n",
       "\\item 13\n",
       "\\item 13\n",
       "\\item 13\n",
       "\\item 13\n",
       "\\end{enumerate*}\n",
       "\n",
       "\\emph{Levels}: \\begin{enumerate*}\n",
       "\\item '10'\n",
       "\\item '12'\n",
       "\\item '13'\n",
       "\\end{enumerate*}\n"
      ],
      "text/markdown": [
       "1. 10\n",
       "2. 10\n",
       "3. 10\n",
       "4. 12\n",
       "5. 12\n",
       "6. 13\n",
       "7. 13\n",
       "8. 13\n",
       "9. 13\n",
       "\n",
       "\n",
       "\n",
       "**Levels**: 1. '10'\n",
       "2. '12'\n",
       "3. '13'\n",
       "\n",
       "\n"
      ],
      "text/plain": [
       "[1] 10 10 10 12 12 13 13 13 13\n",
       "Levels: 10 12 13"
      ]
     },
     "metadata": {},
     "output_type": "display_data"
    }
   ],
   "source": [
    "x2=as.factor(x1)\n",
    "x2"
   ]
  },
  {
   "cell_type": "code",
   "execution_count": 10,
   "metadata": {},
   "outputs": [
    {
     "data": {
      "text/html": [
       "<dl class=dl-horizontal>\n",
       "\t<dt>10</dt>\n",
       "\t\t<dd>3</dd>\n",
       "\t<dt>12</dt>\n",
       "\t\t<dd>2</dd>\n",
       "\t<dt>13</dt>\n",
       "\t\t<dd>4</dd>\n",
       "</dl>\n"
      ],
      "text/latex": [
       "\\begin{description*}\n",
       "\\item[10] 3\n",
       "\\item[12] 2\n",
       "\\item[13] 4\n",
       "\\end{description*}\n"
      ],
      "text/markdown": [
       "10\n",
       ":   312\n",
       ":   213\n",
       ":   4\n",
       "\n"
      ],
      "text/plain": [
       "10 12 13 \n",
       " 3  2  4 "
      ]
     },
     "metadata": {},
     "output_type": "display_data"
    }
   ],
   "source": [
    "summary(x2)"
   ]
  },
  {
   "cell_type": "code",
   "execution_count": 11,
   "metadata": {},
   "outputs": [
    {
     "data": {
      "text/html": [
       "<ol class=list-inline>\n",
       "\t<li>1</li>\n",
       "\t<li>1</li>\n",
       "\t<li>1</li>\n",
       "\t<li>2</li>\n",
       "\t<li>2</li>\n",
       "\t<li>3</li>\n",
       "\t<li>3</li>\n",
       "\t<li>3</li>\n",
       "\t<li>3</li>\n",
       "</ol>\n"
      ],
      "text/latex": [
       "\\begin{enumerate*}\n",
       "\\item 1\n",
       "\\item 1\n",
       "\\item 1\n",
       "\\item 2\n",
       "\\item 2\n",
       "\\item 3\n",
       "\\item 3\n",
       "\\item 3\n",
       "\\item 3\n",
       "\\end{enumerate*}\n"
      ],
      "text/markdown": [
       "1. 1\n",
       "2. 1\n",
       "3. 1\n",
       "4. 2\n",
       "5. 2\n",
       "6. 3\n",
       "7. 3\n",
       "8. 3\n",
       "9. 3\n",
       "\n",
       "\n"
      ],
      "text/plain": [
       "[1] 1 1 1 2 2 3 3 3 3"
      ]
     },
     "metadata": {},
     "output_type": "display_data"
    }
   ],
   "source": [
    "x3=as.numeric(x2)\n",
    "x3"
   ]
  },
  {
   "cell_type": "code",
   "execution_count": 12,
   "metadata": {},
   "outputs": [
    {
     "data": {
      "text/html": [
       "<ol class=list-inline>\n",
       "\t<li>'10'</li>\n",
       "\t<li>'10'</li>\n",
       "\t<li>'10'</li>\n",
       "\t<li>'12'</li>\n",
       "\t<li>'12'</li>\n",
       "\t<li>'13'</li>\n",
       "\t<li>'13'</li>\n",
       "\t<li>'13'</li>\n",
       "\t<li>'13'</li>\n",
       "</ol>\n"
      ],
      "text/latex": [
       "\\begin{enumerate*}\n",
       "\\item '10'\n",
       "\\item '10'\n",
       "\\item '10'\n",
       "\\item '12'\n",
       "\\item '12'\n",
       "\\item '13'\n",
       "\\item '13'\n",
       "\\item '13'\n",
       "\\item '13'\n",
       "\\end{enumerate*}\n"
      ],
      "text/markdown": [
       "1. '10'\n",
       "2. '10'\n",
       "3. '10'\n",
       "4. '12'\n",
       "5. '12'\n",
       "6. '13'\n",
       "7. '13'\n",
       "8. '13'\n",
       "9. '13'\n",
       "\n",
       "\n"
      ],
      "text/plain": [
       "[1] \"10\" \"10\" \"10\" \"12\" \"12\" \"13\" \"13\" \"13\" \"13\""
      ]
     },
     "metadata": {},
     "output_type": "display_data"
    }
   ],
   "source": [
    "x4=as.character(x2)\n",
    "x4"
   ]
  },
  {
   "cell_type": "code",
   "execution_count": 13,
   "metadata": {},
   "outputs": [
    {
     "data": {
      "text/plain": [
       "   Length     Class      Mode \n",
       "        9 character character "
      ]
     },
     "metadata": {},
     "output_type": "display_data"
    }
   ],
   "source": [
    "summary(x4)"
   ]
  },
  {
   "cell_type": "code",
   "execution_count": 14,
   "metadata": {},
   "outputs": [
    {
     "data": {
      "text/html": [
       "<ol class=list-inline>\n",
       "\t<li>'10'</li>\n",
       "\t<li>'10'</li>\n",
       "\t<li>'10'</li>\n",
       "\t<li>'12'</li>\n",
       "\t<li>'12'</li>\n",
       "\t<li>'13'</li>\n",
       "\t<li>'13'</li>\n",
       "\t<li>'13'</li>\n",
       "\t<li>'13'</li>\n",
       "</ol>\n"
      ],
      "text/latex": [
       "\\begin{enumerate*}\n",
       "\\item '10'\n",
       "\\item '10'\n",
       "\\item '10'\n",
       "\\item '12'\n",
       "\\item '12'\n",
       "\\item '13'\n",
       "\\item '13'\n",
       "\\item '13'\n",
       "\\item '13'\n",
       "\\end{enumerate*}\n"
      ],
      "text/markdown": [
       "1. '10'\n",
       "2. '10'\n",
       "3. '10'\n",
       "4. '12'\n",
       "5. '12'\n",
       "6. '13'\n",
       "7. '13'\n",
       "8. '13'\n",
       "9. '13'\n",
       "\n",
       "\n"
      ],
      "text/plain": [
       "[1] \"10\" \"10\" \"10\" \"12\" \"12\" \"13\" \"13\" \"13\" \"13\""
      ]
     },
     "metadata": {},
     "output_type": "display_data"
    }
   ],
   "source": [
    "x5=as.character(x4)\n",
    "x5"
   ]
  },
  {
   "cell_type": "code",
   "execution_count": 15,
   "metadata": {},
   "outputs": [
    {
     "data": {
      "text/html": [
       "<ol class=list-inline>\n",
       "\t<li>10</li>\n",
       "\t<li>10</li>\n",
       "\t<li>10</li>\n",
       "\t<li>12</li>\n",
       "\t<li>12</li>\n",
       "\t<li>13</li>\n",
       "\t<li>13</li>\n",
       "\t<li>13</li>\n",
       "\t<li>13</li>\n",
       "</ol>\n"
      ],
      "text/latex": [
       "\\begin{enumerate*}\n",
       "\\item 10\n",
       "\\item 10\n",
       "\\item 10\n",
       "\\item 12\n",
       "\\item 12\n",
       "\\item 13\n",
       "\\item 13\n",
       "\\item 13\n",
       "\\item 13\n",
       "\\end{enumerate*}\n"
      ],
      "text/markdown": [
       "1. 10\n",
       "2. 10\n",
       "3. 10\n",
       "4. 12\n",
       "5. 12\n",
       "6. 13\n",
       "7. 13\n",
       "8. 13\n",
       "9. 13\n",
       "\n",
       "\n"
      ],
      "text/plain": [
       "[1] 10 10 10 12 12 13 13 13 13"
      ]
     },
     "metadata": {},
     "output_type": "display_data"
    }
   ],
   "source": [
    "x5=as.numeric(x4)\n",
    "x5"
   ]
  },
  {
   "cell_type": "code",
   "execution_count": 16,
   "metadata": {},
   "outputs": [
    {
     "data": {
      "text/plain": [
       "   Min. 1st Qu.  Median    Mean 3rd Qu.    Max. \n",
       "  10.00   10.00   12.00   11.78   13.00   13.00 "
      ]
     },
     "metadata": {},
     "output_type": "display_data"
    }
   ],
   "source": [
    "summary(x5)"
   ]
  },
  {
   "cell_type": "code",
   "execution_count": 17,
   "metadata": {},
   "outputs": [
    {
     "data": {
      "text/plain": [
       "   Min. 1st Qu.  Median    Mean 3rd Qu.    Max. \n",
       "  10.00   10.00   12.00   11.78   13.00   13.00 "
      ]
     },
     "metadata": {},
     "output_type": "display_data"
    }
   ],
   "source": [
    "summary(x1)"
   ]
  },
  {
   "cell_type": "code",
   "execution_count": 18,
   "metadata": {},
   "outputs": [
    {
     "data": {
      "text/html": [
       "<table>\n",
       "<caption>A matrix: 3 × 3 of type dbl</caption>\n",
       "<tbody>\n",
       "\t<tr><td> 208</td><td> 8</td><td>2.4</td></tr>\n",
       "\t<tr><td>1432</td><td>61</td><td>1.7</td></tr>\n",
       "\t<tr><td>2112</td><td>82</td><td>2.0</td></tr>\n",
       "</tbody>\n",
       "</table>\n"
      ],
      "text/latex": [
       "A matrix: 3 × 3 of type dbl\n",
       "\\begin{tabular}{lll}\n",
       "\t  208 &  8 & 2.4\\\\\n",
       "\t 1432 & 61 & 1.7\\\\\n",
       "\t 2112 & 82 & 2.0\\\\\n",
       "\\end{tabular}\n"
      ],
      "text/markdown": [
       "\n",
       "A matrix: 3 × 3 of type dbl\n",
       "\n",
       "|  208 |  8 | 2.4 |\n",
       "| 1432 | 61 | 1.7 |\n",
       "| 2112 | 82 | 2.0 |\n",
       "\n"
      ],
      "text/plain": [
       "     [,1] [,2] [,3]\n",
       "[1,]  208  8   2.4 \n",
       "[2,] 1432 61   1.7 \n",
       "[3,] 2112 82   2.0 "
      ]
     },
     "metadata": {},
     "output_type": "display_data"
    }
   ],
   "source": [
    "dt=c(208,8,2.4,1432,61,1.7,2112,82,2)\n",
    "dt1=matrix(dt,nrow=3,byrow=T)\n",
    "dt1"
   ]
  },
  {
   "cell_type": "code",
   "execution_count": 19,
   "metadata": {},
   "outputs": [
    {
     "data": {
      "text/html": [
       "<ol class=list-inline>\n",
       "\t<li>3</li>\n",
       "\t<li>3</li>\n",
       "</ol>\n"
      ],
      "text/latex": [
       "\\begin{enumerate*}\n",
       "\\item 3\n",
       "\\item 3\n",
       "\\end{enumerate*}\n"
      ],
      "text/markdown": [
       "1. 3\n",
       "2. 3\n",
       "\n",
       "\n"
      ],
      "text/plain": [
       "[1] 3 3"
      ]
     },
     "metadata": {},
     "output_type": "display_data"
    }
   ],
   "source": [
    "dim(dt1)"
   ]
  },
  {
   "cell_type": "code",
   "execution_count": 20,
   "metadata": {},
   "outputs": [
    {
     "data": {
      "text/html": [
       "<table>\n",
       "<caption>A matrix: 3 × 3 of type dbl</caption>\n",
       "<thead>\n",
       "\t<tr><th></th><th scope=col>GNP</th><th scope=col>Pop</th><th scope=col>Inflation</th></tr>\n",
       "</thead>\n",
       "<tbody>\n",
       "\t<tr><th scope=row>Austria</th><td> 208</td><td> 8</td><td>2.4</td></tr>\n",
       "\t<tr><th scope=row>France</th><td>1432</td><td>61</td><td>1.7</td></tr>\n",
       "\t<tr><th scope=row>Japan</th><td>2112</td><td>82</td><td>2.0</td></tr>\n",
       "</tbody>\n",
       "</table>\n"
      ],
      "text/latex": [
       "A matrix: 3 × 3 of type dbl\n",
       "\\begin{tabular}{r|lll}\n",
       "  & GNP & Pop & Inflation\\\\\n",
       "\\hline\n",
       "\tAustria &  208 &  8 & 2.4\\\\\n",
       "\tFrance & 1432 & 61 & 1.7\\\\\n",
       "\tJapan & 2112 & 82 & 2.0\\\\\n",
       "\\end{tabular}\n"
      ],
      "text/markdown": [
       "\n",
       "A matrix: 3 × 3 of type dbl\n",
       "\n",
       "| <!--/--> | GNP | Pop | Inflation |\n",
       "|---|---|---|---|\n",
       "| Austria |  208 |  8 | 2.4 |\n",
       "| France | 1432 | 61 | 1.7 |\n",
       "| Japan | 2112 | 82 | 2.0 |\n",
       "\n"
      ],
      "text/plain": [
       "        GNP  Pop Inflation\n",
       "Austria  208  8  2.4      \n",
       "France  1432 61  1.7      \n",
       "Japan   2112 82  2.0      "
      ]
     },
     "metadata": {},
     "output_type": "display_data"
    }
   ],
   "source": [
    "ctry=c(\"Austria\",\"France\",\"Japan\")\n",
    "vr=c(\"GNP\",\"Pop\",\"Inflation\")\n",
    "dimnames(dt1)=list(ctry,vr)\n",
    "dt1"
   ]
  },
  {
   "cell_type": "code",
   "execution_count": 21,
   "metadata": {},
   "outputs": [
    {
     "data": {
      "text/html": [
       "<table>\n",
       "<caption>A matrix: 4 × 3 of type dbl</caption>\n",
       "<thead>\n",
       "\t<tr><th></th><th scope=col>GNP</th><th scope=col>Pop</th><th scope=col>Inflation</th></tr>\n",
       "</thead>\n",
       "<tbody>\n",
       "\t<tr><th scope=row>Austria</th><td> 208</td><td> 8</td><td>2.4</td></tr>\n",
       "\t<tr><th scope=row>France</th><td>1432</td><td>61</td><td>1.7</td></tr>\n",
       "\t<tr><th scope=row>Japan</th><td>2112</td><td>82</td><td>2.0</td></tr>\n",
       "\t<tr><th scope=row>Germany</th><td>1820</td><td>71</td><td>2.1</td></tr>\n",
       "</tbody>\n",
       "</table>\n"
      ],
      "text/latex": [
       "A matrix: 4 × 3 of type dbl\n",
       "\\begin{tabular}{r|lll}\n",
       "  & GNP & Pop & Inflation\\\\\n",
       "\\hline\n",
       "\tAustria &  208 &  8 & 2.4\\\\\n",
       "\tFrance & 1432 & 61 & 1.7\\\\\n",
       "\tJapan & 2112 & 82 & 2.0\\\\\n",
       "\tGermany & 1820 & 71 & 2.1\\\\\n",
       "\\end{tabular}\n"
      ],
      "text/markdown": [
       "\n",
       "A matrix: 4 × 3 of type dbl\n",
       "\n",
       "| <!--/--> | GNP | Pop | Inflation |\n",
       "|---|---|---|---|\n",
       "| Austria |  208 |  8 | 2.4 |\n",
       "| France | 1432 | 61 | 1.7 |\n",
       "| Japan | 2112 | 82 | 2.0 |\n",
       "| Germany | 1820 | 71 | 2.1 |\n",
       "\n"
      ],
      "text/plain": [
       "        GNP  Pop Inflation\n",
       "Austria  208  8  2.4      \n",
       "France  1432 61  1.7      \n",
       "Japan   2112 82  2.0      \n",
       "Germany 1820 71  2.1      "
      ]
     },
     "metadata": {},
     "output_type": "display_data"
    }
   ],
   "source": [
    "Germany=c(1820,71,2.1)\n",
    "dt2=rbind(dt1,Germany)\n",
    "dt2"
   ]
  },
  {
   "cell_type": "code",
   "execution_count": 22,
   "metadata": {},
   "outputs": [
    {
     "data": {
      "text/html": [
       "<table>\n",
       "<caption>A matrix: 4 × 4 of type dbl</caption>\n",
       "<thead>\n",
       "\t<tr><th></th><th scope=col>GNP</th><th scope=col>Pop</th><th scope=col>Inflation</th><th scope=col>Area</th></tr>\n",
       "</thead>\n",
       "<tbody>\n",
       "\t<tr><th scope=row>Austria</th><td> 208</td><td> 8</td><td>2.4</td><td> 84</td></tr>\n",
       "\t<tr><th scope=row>France</th><td>1432</td><td>61</td><td>1.7</td><td>544</td></tr>\n",
       "\t<tr><th scope=row>Japan</th><td>2112</td><td>82</td><td>2.0</td><td>450</td></tr>\n",
       "\t<tr><th scope=row>Germany</th><td>1820</td><td>71</td><td>2.1</td><td>358</td></tr>\n",
       "</tbody>\n",
       "</table>\n"
      ],
      "text/latex": [
       "A matrix: 4 × 4 of type dbl\n",
       "\\begin{tabular}{r|llll}\n",
       "  & GNP & Pop & Inflation & Area\\\\\n",
       "\\hline\n",
       "\tAustria &  208 &  8 & 2.4 &  84\\\\\n",
       "\tFrance & 1432 & 61 & 1.7 & 544\\\\\n",
       "\tJapan & 2112 & 82 & 2.0 & 450\\\\\n",
       "\tGermany & 1820 & 71 & 2.1 & 358\\\\\n",
       "\\end{tabular}\n"
      ],
      "text/markdown": [
       "\n",
       "A matrix: 4 × 4 of type dbl\n",
       "\n",
       "| <!--/--> | GNP | Pop | Inflation | Area |\n",
       "|---|---|---|---|---|\n",
       "| Austria |  208 |  8 | 2.4 |  84 |\n",
       "| France | 1432 | 61 | 1.7 | 544 |\n",
       "| Japan | 2112 | 82 | 2.0 | 450 |\n",
       "| Germany | 1820 | 71 | 2.1 | 358 |\n",
       "\n"
      ],
      "text/plain": [
       "        GNP  Pop Inflation Area\n",
       "Austria  208  8  2.4        84 \n",
       "France  1432 61  1.7       544 \n",
       "Japan   2112 82  2.0       450 \n",
       "Germany 1820 71  2.1       358 "
      ]
     },
     "metadata": {},
     "output_type": "display_data"
    }
   ],
   "source": [
    "Area=c(84,544,450,358)\n",
    "dt3=cbind(dt2,Area)\n",
    "dt3"
   ]
  },
  {
   "cell_type": "code",
   "execution_count": 24,
   "metadata": {},
   "outputs": [
    {
     "data": {
      "text/html": [
       "<table>\n",
       "<caption>A matrix: 4 × 5 of type chr</caption>\n",
       "<thead>\n",
       "\t<tr><th></th><th scope=col>GNP</th><th scope=col>Pop</th><th scope=col>Inflation</th><th scope=col>Area</th><th scope=col>cat</th></tr>\n",
       "</thead>\n",
       "<tbody>\n",
       "\t<tr><th scope=row>Austria</th><td>208 </td><td>8 </td><td>2.4</td><td>84 </td><td>EU    </td></tr>\n",
       "\t<tr><th scope=row>France</th><td>1432</td><td>61</td><td>1.7</td><td>544</td><td>EU    </td></tr>\n",
       "\t<tr><th scope=row>Japan</th><td>2112</td><td>82</td><td>2  </td><td>450</td><td>non-EU</td></tr>\n",
       "\t<tr><th scope=row>Germany</th><td>1820</td><td>71</td><td>2.1</td><td>358</td><td>EU    </td></tr>\n",
       "</tbody>\n",
       "</table>\n"
      ],
      "text/latex": [
       "A matrix: 4 × 5 of type chr\n",
       "\\begin{tabular}{r|lllll}\n",
       "  & GNP & Pop & Inflation & Area & cat\\\\\n",
       "\\hline\n",
       "\tAustria & 208  & 8  & 2.4 & 84  & EU    \\\\\n",
       "\tFrance & 1432 & 61 & 1.7 & 544 & EU    \\\\\n",
       "\tJapan & 2112 & 82 & 2   & 450 & non-EU\\\\\n",
       "\tGermany & 1820 & 71 & 2.1 & 358 & EU    \\\\\n",
       "\\end{tabular}\n"
      ],
      "text/markdown": [
       "\n",
       "A matrix: 4 × 5 of type chr\n",
       "\n",
       "| <!--/--> | GNP | Pop | Inflation | Area | cat |\n",
       "|---|---|---|---|---|---|\n",
       "| Austria | 208  | 8  | 2.4 | 84  | EU     |\n",
       "| France | 1432 | 61 | 1.7 | 544 | EU     |\n",
       "| Japan | 2112 | 82 | 2   | 450 | non-EU |\n",
       "| Germany | 1820 | 71 | 2.1 | 358 | EU     |\n",
       "\n"
      ],
      "text/plain": [
       "        GNP  Pop Inflation Area cat   \n",
       "Austria 208  8   2.4       84   EU    \n",
       "France  1432 61  1.7       544  EU    \n",
       "Japan   2112 82  2         450  non-EU\n",
       "Germany 1820 71  2.1       358  EU    "
      ]
     },
     "metadata": {},
     "output_type": "display_data"
    }
   ],
   "source": [
    "cat=c(\"EU\",\"EU\",\"non-EU\",\"EU\")\n",
    "dt4=cbind(dt3,cat)\n",
    "dt4"
   ]
  },
  {
   "cell_type": "code",
   "execution_count": 25,
   "metadata": {},
   "outputs": [
    {
     "data": {
      "text/plain": [
       "      GNP            Pop          Inflation          Area      \n",
       " Min.   : 208   Min.   : 8.00   Min.   :1.700   Min.   : 84.0  \n",
       " 1st Qu.:1126   1st Qu.:47.75   1st Qu.:1.925   1st Qu.:289.5  \n",
       " Median :1626   Median :66.00   Median :2.050   Median :404.0  \n",
       " Mean   :1393   Mean   :55.50   Mean   :2.050   Mean   :359.0  \n",
       " 3rd Qu.:1893   3rd Qu.:73.75   3rd Qu.:2.175   3rd Qu.:473.5  \n",
       " Max.   :2112   Max.   :82.00   Max.   :2.400   Max.   :544.0  "
      ]
     },
     "metadata": {},
     "output_type": "display_data"
    }
   ],
   "source": [
    "summary(dt3)"
   ]
  },
  {
   "cell_type": "code",
   "execution_count": 26,
   "metadata": {},
   "outputs": [
    {
     "data": {
      "text/plain": [
       "   GNP    Pop    Inflation  Area       cat   \n",
       " 1432:1   61:1   1.7:1     358:1   EU    :3  \n",
       " 1820:1   71:1   2  :1     450:1   non-EU:1  \n",
       " 208 :1   8 :1   2.1:1     544:1             \n",
       " 2112:1   82:1   2.4:1     84 :1             "
      ]
     },
     "metadata": {},
     "output_type": "display_data"
    }
   ],
   "source": [
    "summary(dt4)"
   ]
  },
  {
   "cell_type": "code",
   "execution_count": 27,
   "metadata": {},
   "outputs": [
    {
     "name": "stdout",
     "output_type": "stream",
     "text": [
      " num [1:4, 1:4] 208 1432 2112 1820 8 ...\n",
      " - attr(*, \"dimnames\")=List of 2\n",
      "  ..$ : chr [1:4] \"Austria\" \"France\" \"Japan\" \"Germany\"\n",
      "  ..$ : chr [1:4] \"GNP\" \"Pop\" \"Inflation\" \"Area\"\n"
     ]
    }
   ],
   "source": [
    "str(dt3)"
   ]
  },
  {
   "cell_type": "code",
   "execution_count": 28,
   "metadata": {},
   "outputs": [
    {
     "name": "stdout",
     "output_type": "stream",
     "text": [
      " chr [1:4, 1:5] \"208\" \"1432\" \"2112\" \"1820\" \"8\" \"61\" \"82\" \"71\" \"2.4\" \"1.7\" ...\n",
      " - attr(*, \"dimnames\")=List of 2\n",
      "  ..$ : chr [1:4] \"Austria\" \"France\" \"Japan\" \"Germany\"\n",
      "  ..$ : chr [1:5] \"GNP\" \"Pop\" \"Inflation\" \"Area\" ...\n"
     ]
    }
   ],
   "source": [
    "str(dt4)"
   ]
  },
  {
   "cell_type": "code",
   "execution_count": 29,
   "metadata": {},
   "outputs": [
    {
     "data": {
      "text/html": [
       "<table>\n",
       "<caption>A data.frame: 4 × 5</caption>\n",
       "<thead>\n",
       "\t<tr><th></th><th scope=col>GNP</th><th scope=col>Pop</th><th scope=col>Inflation</th><th scope=col>Area</th><th scope=col>cat</th></tr>\n",
       "\t<tr><th></th><th scope=col>&lt;dbl&gt;</th><th scope=col>&lt;dbl&gt;</th><th scope=col>&lt;dbl&gt;</th><th scope=col>&lt;dbl&gt;</th><th scope=col>&lt;fct&gt;</th></tr>\n",
       "</thead>\n",
       "<tbody>\n",
       "\t<tr><th scope=row>Austria</th><td> 208</td><td> 8</td><td>2.4</td><td> 84</td><td>EU    </td></tr>\n",
       "\t<tr><th scope=row>France</th><td>1432</td><td>61</td><td>1.7</td><td>544</td><td>EU    </td></tr>\n",
       "\t<tr><th scope=row>Japan</th><td>2112</td><td>82</td><td>2.0</td><td>450</td><td>non-EU</td></tr>\n",
       "\t<tr><th scope=row>Germany</th><td>1820</td><td>71</td><td>2.1</td><td>358</td><td>EU    </td></tr>\n",
       "</tbody>\n",
       "</table>\n"
      ],
      "text/latex": [
       "A data.frame: 4 × 5\n",
       "\\begin{tabular}{r|lllll}\n",
       "  & GNP & Pop & Inflation & Area & cat\\\\\n",
       "  & <dbl> & <dbl> & <dbl> & <dbl> & <fct>\\\\\n",
       "\\hline\n",
       "\tAustria &  208 &  8 & 2.4 &  84 & EU    \\\\\n",
       "\tFrance & 1432 & 61 & 1.7 & 544 & EU    \\\\\n",
       "\tJapan & 2112 & 82 & 2.0 & 450 & non-EU\\\\\n",
       "\tGermany & 1820 & 71 & 2.1 & 358 & EU    \\\\\n",
       "\\end{tabular}\n"
      ],
      "text/markdown": [
       "\n",
       "A data.frame: 4 × 5\n",
       "\n",
       "| <!--/--> | GNP &lt;dbl&gt; | Pop &lt;dbl&gt; | Inflation &lt;dbl&gt; | Area &lt;dbl&gt; | cat &lt;fct&gt; |\n",
       "|---|---|---|---|---|---|\n",
       "| Austria |  208 |  8 | 2.4 |  84 | EU     |\n",
       "| France | 1432 | 61 | 1.7 | 544 | EU     |\n",
       "| Japan | 2112 | 82 | 2.0 | 450 | non-EU |\n",
       "| Germany | 1820 | 71 | 2.1 | 358 | EU     |\n",
       "\n"
      ],
      "text/plain": [
       "        GNP  Pop Inflation Area cat   \n",
       "Austria  208  8  2.4        84  EU    \n",
       "France  1432 61  1.7       544  EU    \n",
       "Japan   2112 82  2.0       450  non-EU\n",
       "Germany 1820 71  2.1       358  EU    "
      ]
     },
     "metadata": {},
     "output_type": "display_data"
    }
   ],
   "source": [
    "dt5=data.frame(dt3,cat)\n",
    "dt5"
   ]
  },
  {
   "cell_type": "code",
   "execution_count": 30,
   "metadata": {},
   "outputs": [
    {
     "data": {
      "text/plain": [
       "      GNP            Pop          Inflation          Area           cat   \n",
       " Min.   : 208   Min.   : 8.00   Min.   :1.700   Min.   : 84.0   EU    :3  \n",
       " 1st Qu.:1126   1st Qu.:47.75   1st Qu.:1.925   1st Qu.:289.5   non-EU:1  \n",
       " Median :1626   Median :66.00   Median :2.050   Median :404.0             \n",
       " Mean   :1393   Mean   :55.50   Mean   :2.050   Mean   :359.0             \n",
       " 3rd Qu.:1893   3rd Qu.:73.75   3rd Qu.:2.175   3rd Qu.:473.5             \n",
       " Max.   :2112   Max.   :82.00   Max.   :2.400   Max.   :544.0             "
      ]
     },
     "metadata": {},
     "output_type": "display_data"
    }
   ],
   "source": [
    "summary(dt5)"
   ]
  },
  {
   "cell_type": "code",
   "execution_count": 31,
   "metadata": {},
   "outputs": [
    {
     "data": {
      "text/html": [
       "<ol>\n",
       "\t<li><ol class=list-inline>\n",
       "\t<li>208</li>\n",
       "\t<li>8</li>\n",
       "\t<li>2.4</li>\n",
       "\t<li>1432</li>\n",
       "\t<li>61</li>\n",
       "\t<li>1.7</li>\n",
       "\t<li>2112</li>\n",
       "\t<li>82</li>\n",
       "\t<li>2</li>\n",
       "</ol>\n",
       "</li>\n",
       "\t<li><table>\n",
       "<caption>A matrix: 3 × 3 of type dbl</caption>\n",
       "<thead>\n",
       "\t<tr><th></th><th scope=col>GNP</th><th scope=col>Pop</th><th scope=col>Inflation</th></tr>\n",
       "</thead>\n",
       "<tbody>\n",
       "\t<tr><th scope=row>Austria</th><td> 208</td><td> 8</td><td>2.4</td></tr>\n",
       "\t<tr><th scope=row>France</th><td>1432</td><td>61</td><td>1.7</td></tr>\n",
       "\t<tr><th scope=row>Japan</th><td>2112</td><td>82</td><td>2.0</td></tr>\n",
       "</tbody>\n",
       "</table>\n",
       "</li>\n",
       "\t<li><table>\n",
       "<caption>A data.frame: 4 × 5</caption>\n",
       "<thead>\n",
       "\t<tr><th></th><th scope=col>GNP</th><th scope=col>Pop</th><th scope=col>Inflation</th><th scope=col>Area</th><th scope=col>cat</th></tr>\n",
       "\t<tr><th></th><th scope=col>&lt;dbl&gt;</th><th scope=col>&lt;dbl&gt;</th><th scope=col>&lt;dbl&gt;</th><th scope=col>&lt;dbl&gt;</th><th scope=col>&lt;fct&gt;</th></tr>\n",
       "</thead>\n",
       "<tbody>\n",
       "\t<tr><th scope=row>Austria</th><td> 208</td><td> 8</td><td>2.4</td><td> 84</td><td>EU    </td></tr>\n",
       "\t<tr><th scope=row>France</th><td>1432</td><td>61</td><td>1.7</td><td>544</td><td>EU    </td></tr>\n",
       "\t<tr><th scope=row>Japan</th><td>2112</td><td>82</td><td>2.0</td><td>450</td><td>non-EU</td></tr>\n",
       "\t<tr><th scope=row>Germany</th><td>1820</td><td>71</td><td>2.1</td><td>358</td><td>EU    </td></tr>\n",
       "</tbody>\n",
       "</table>\n",
       "</li>\n",
       "</ol>\n"
      ],
      "text/latex": [
       "\\begin{enumerate}\n",
       "\\item \\begin{enumerate*}\n",
       "\\item 208\n",
       "\\item 8\n",
       "\\item 2.4\n",
       "\\item 1432\n",
       "\\item 61\n",
       "\\item 1.7\n",
       "\\item 2112\n",
       "\\item 82\n",
       "\\item 2\n",
       "\\end{enumerate*}\n",
       "\n",
       "\\item A matrix: 3 × 3 of type dbl\n",
       "\\begin{tabular}{r|lll}\n",
       "  & GNP & Pop & Inflation\\\\\n",
       "\\hline\n",
       "\tAustria &  208 &  8 & 2.4\\\\\n",
       "\tFrance & 1432 & 61 & 1.7\\\\\n",
       "\tJapan & 2112 & 82 & 2.0\\\\\n",
       "\\end{tabular}\n",
       "\n",
       "\\item A data.frame: 4 × 5\n",
       "\\begin{tabular}{r|lllll}\n",
       "  & GNP & Pop & Inflation & Area & cat\\\\\n",
       "  & <dbl> & <dbl> & <dbl> & <dbl> & <fct>\\\\\n",
       "\\hline\n",
       "\tAustria &  208 &  8 & 2.4 &  84 & EU    \\\\\n",
       "\tFrance & 1432 & 61 & 1.7 & 544 & EU    \\\\\n",
       "\tJapan & 2112 & 82 & 2.0 & 450 & non-EU\\\\\n",
       "\tGermany & 1820 & 71 & 2.1 & 358 & EU    \\\\\n",
       "\\end{tabular}\n",
       "\n",
       "\\end{enumerate}\n"
      ],
      "text/markdown": [
       "1. 1. 208\n",
       "2. 8\n",
       "3. 2.4\n",
       "4. 1432\n",
       "5. 61\n",
       "6. 1.7\n",
       "7. 2112\n",
       "8. 82\n",
       "9. 2\n",
       "\n",
       "\n",
       "\n",
       "2. \n",
       "A matrix: 3 × 3 of type dbl\n",
       "\n",
       "| <!--/--> | GNP | Pop | Inflation |\n",
       "|---|---|---|---|\n",
       "| Austria |  208 |  8 | 2.4 |\n",
       "| France | 1432 | 61 | 1.7 |\n",
       "| Japan | 2112 | 82 | 2.0 |\n",
       "\n",
       "\n",
       "3. \n",
       "A data.frame: 4 × 5\n",
       "\n",
       "| <!--/--> | GNP &lt;dbl&gt; | Pop &lt;dbl&gt; | Inflation &lt;dbl&gt; | Area &lt;dbl&gt; | cat &lt;fct&gt; |\n",
       "|---|---|---|---|---|---|\n",
       "| Austria |  208 |  8 | 2.4 |  84 | EU     |\n",
       "| France | 1432 | 61 | 1.7 | 544 | EU     |\n",
       "| Japan | 2112 | 82 | 2.0 | 450 | non-EU |\n",
       "| Germany | 1820 | 71 | 2.1 | 358 | EU     |\n",
       "\n",
       "\n",
       "\n",
       "\n"
      ],
      "text/plain": [
       "[[1]]\n",
       "[1]  208.0    8.0    2.4 1432.0   61.0    1.7 2112.0   82.0    2.0\n",
       "\n",
       "[[2]]\n",
       "         GNP Pop Inflation\n",
       "Austria  208   8       2.4\n",
       "France  1432  61       1.7\n",
       "Japan   2112  82       2.0\n",
       "\n",
       "[[3]]\n",
       "         GNP Pop Inflation Area    cat\n",
       "Austria  208   8       2.4   84     EU\n",
       "France  1432  61       1.7  544     EU\n",
       "Japan   2112  82       2.0  450 non-EU\n",
       "Germany 1820  71       2.1  358     EU\n"
      ]
     },
     "metadata": {},
     "output_type": "display_data"
    }
   ],
   "source": [
    "a_list=list(dt,dt1,dt5)\n",
    "a_list"
   ]
  },
  {
   "cell_type": "code",
   "execution_count": 32,
   "metadata": {},
   "outputs": [
    {
     "data": {
      "text/html": [
       "<ol class=list-inline>\n",
       "\t<li>208</li>\n",
       "\t<li>8</li>\n",
       "\t<li>2.4</li>\n",
       "\t<li>1432</li>\n",
       "\t<li>61</li>\n",
       "\t<li>1.7</li>\n",
       "\t<li>2112</li>\n",
       "\t<li>82</li>\n",
       "\t<li>2</li>\n",
       "</ol>\n"
      ],
      "text/latex": [
       "\\begin{enumerate*}\n",
       "\\item 208\n",
       "\\item 8\n",
       "\\item 2.4\n",
       "\\item 1432\n",
       "\\item 61\n",
       "\\item 1.7\n",
       "\\item 2112\n",
       "\\item 82\n",
       "\\item 2\n",
       "\\end{enumerate*}\n"
      ],
      "text/markdown": [
       "1. 208\n",
       "2. 8\n",
       "3. 2.4\n",
       "4. 1432\n",
       "5. 61\n",
       "6. 1.7\n",
       "7. 2112\n",
       "8. 82\n",
       "9. 2\n",
       "\n",
       "\n"
      ],
      "text/plain": [
       "[1]  208.0    8.0    2.4 1432.0   61.0    1.7 2112.0   82.0    2.0"
      ]
     },
     "metadata": {},
     "output_type": "display_data"
    }
   ],
   "source": [
    "a_list[[1]]"
   ]
  },
  {
   "cell_type": "code",
   "execution_count": 34,
   "metadata": {},
   "outputs": [
    {
     "data": {
      "text/plain": [
       "NULL"
      ]
     },
     "metadata": {},
     "output_type": "display_data"
    }
   ],
   "source": [
    "a_list$dt"
   ]
  },
  {
   "cell_type": "code",
   "execution_count": 35,
   "metadata": {},
   "outputs": [
    {
     "data": {
      "text/html": [
       "<dl>\n",
       "\t<dt>$dt</dt>\n",
       "\t\t<dd><ol class=list-inline>\n",
       "\t<li>208</li>\n",
       "\t<li>8</li>\n",
       "\t<li>2.4</li>\n",
       "\t<li>1432</li>\n",
       "\t<li>61</li>\n",
       "\t<li>1.7</li>\n",
       "\t<li>2112</li>\n",
       "\t<li>82</li>\n",
       "\t<li>2</li>\n",
       "</ol>\n",
       "</dd>\n",
       "\t<dt>$dt1</dt>\n",
       "\t\t<dd><table>\n",
       "<caption>A matrix: 3 × 3 of type dbl</caption>\n",
       "<thead>\n",
       "\t<tr><th></th><th scope=col>GNP</th><th scope=col>Pop</th><th scope=col>Inflation</th></tr>\n",
       "</thead>\n",
       "<tbody>\n",
       "\t<tr><th scope=row>Austria</th><td> 208</td><td> 8</td><td>2.4</td></tr>\n",
       "\t<tr><th scope=row>France</th><td>1432</td><td>61</td><td>1.7</td></tr>\n",
       "\t<tr><th scope=row>Japan</th><td>2112</td><td>82</td><td>2.0</td></tr>\n",
       "</tbody>\n",
       "</table>\n",
       "</dd>\n",
       "\t<dt>$dt5</dt>\n",
       "\t\t<dd><table>\n",
       "<caption>A data.frame: 4 × 5</caption>\n",
       "<thead>\n",
       "\t<tr><th></th><th scope=col>GNP</th><th scope=col>Pop</th><th scope=col>Inflation</th><th scope=col>Area</th><th scope=col>cat</th></tr>\n",
       "\t<tr><th></th><th scope=col>&lt;dbl&gt;</th><th scope=col>&lt;dbl&gt;</th><th scope=col>&lt;dbl&gt;</th><th scope=col>&lt;dbl&gt;</th><th scope=col>&lt;fct&gt;</th></tr>\n",
       "</thead>\n",
       "<tbody>\n",
       "\t<tr><th scope=row>Austria</th><td> 208</td><td> 8</td><td>2.4</td><td> 84</td><td>EU    </td></tr>\n",
       "\t<tr><th scope=row>France</th><td>1432</td><td>61</td><td>1.7</td><td>544</td><td>EU    </td></tr>\n",
       "\t<tr><th scope=row>Japan</th><td>2112</td><td>82</td><td>2.0</td><td>450</td><td>non-EU</td></tr>\n",
       "\t<tr><th scope=row>Germany</th><td>1820</td><td>71</td><td>2.1</td><td>358</td><td>EU    </td></tr>\n",
       "</tbody>\n",
       "</table>\n",
       "</dd>\n",
       "</dl>\n"
      ],
      "text/latex": [
       "\\begin{description}\n",
       "\\item[\\$dt] \\begin{enumerate*}\n",
       "\\item 208\n",
       "\\item 8\n",
       "\\item 2.4\n",
       "\\item 1432\n",
       "\\item 61\n",
       "\\item 1.7\n",
       "\\item 2112\n",
       "\\item 82\n",
       "\\item 2\n",
       "\\end{enumerate*}\n",
       "\n",
       "\\item[\\$dt1] A matrix: 3 × 3 of type dbl\n",
       "\\begin{tabular}{r|lll}\n",
       "  & GNP & Pop & Inflation\\\\\n",
       "\\hline\n",
       "\tAustria &  208 &  8 & 2.4\\\\\n",
       "\tFrance & 1432 & 61 & 1.7\\\\\n",
       "\tJapan & 2112 & 82 & 2.0\\\\\n",
       "\\end{tabular}\n",
       "\n",
       "\\item[\\$dt5] A data.frame: 4 × 5\n",
       "\\begin{tabular}{r|lllll}\n",
       "  & GNP & Pop & Inflation & Area & cat\\\\\n",
       "  & <dbl> & <dbl> & <dbl> & <dbl> & <fct>\\\\\n",
       "\\hline\n",
       "\tAustria &  208 &  8 & 2.4 &  84 & EU    \\\\\n",
       "\tFrance & 1432 & 61 & 1.7 & 544 & EU    \\\\\n",
       "\tJapan & 2112 & 82 & 2.0 & 450 & non-EU\\\\\n",
       "\tGermany & 1820 & 71 & 2.1 & 358 & EU    \\\\\n",
       "\\end{tabular}\n",
       "\n",
       "\\end{description}\n"
      ],
      "text/markdown": [
       "$dt\n",
       ":   1. 208\n",
       "2. 8\n",
       "3. 2.4\n",
       "4. 1432\n",
       "5. 61\n",
       "6. 1.7\n",
       "7. 2112\n",
       "8. 82\n",
       "9. 2\n",
       "\n",
       "\n",
       "\n",
       "$dt1\n",
       ":   \n",
       "A matrix: 3 × 3 of type dbl\n",
       "\n",
       "| <!--/--> | GNP | Pop | Inflation |\n",
       "|---|---|---|---|\n",
       "| Austria |  208 |  8 | 2.4 |\n",
       "| France | 1432 | 61 | 1.7 |\n",
       "| Japan | 2112 | 82 | 2.0 |\n",
       "\n",
       "\n",
       "$dt5\n",
       ":   \n",
       "A data.frame: 4 × 5\n",
       "\n",
       "| <!--/--> | GNP &lt;dbl&gt; | Pop &lt;dbl&gt; | Inflation &lt;dbl&gt; | Area &lt;dbl&gt; | cat &lt;fct&gt; |\n",
       "|---|---|---|---|---|---|\n",
       "| Austria |  208 |  8 | 2.4 |  84 | EU     |\n",
       "| France | 1432 | 61 | 1.7 | 544 | EU     |\n",
       "| Japan | 2112 | 82 | 2.0 | 450 | non-EU |\n",
       "| Germany | 1820 | 71 | 2.1 | 358 | EU     |\n",
       "\n",
       "\n",
       "\n",
       "\n"
      ],
      "text/plain": [
       "$dt\n",
       "[1]  208.0    8.0    2.4 1432.0   61.0    1.7 2112.0   82.0    2.0\n",
       "\n",
       "$dt1\n",
       "         GNP Pop Inflation\n",
       "Austria  208   8       2.4\n",
       "France  1432  61       1.7\n",
       "Japan   2112  82       2.0\n",
       "\n",
       "$dt5\n",
       "         GNP Pop Inflation Area    cat\n",
       "Austria  208   8       2.4   84     EU\n",
       "France  1432  61       1.7  544     EU\n",
       "Japan   2112  82       2.0  450 non-EU\n",
       "Germany 1820  71       2.1  358     EU\n"
      ]
     },
     "metadata": {},
     "output_type": "display_data"
    }
   ],
   "source": [
    "a_list=list(dt=dt,dt1=dt1,dt5=dt5)\n",
    "a_list"
   ]
  },
  {
   "cell_type": "code",
   "execution_count": 36,
   "metadata": {},
   "outputs": [
    {
     "data": {
      "text/html": [
       "<ol class=list-inline>\n",
       "\t<li>1</li>\n",
       "\t<li>2</li>\n",
       "\t<li>3</li>\n",
       "\t<li>4</li>\n",
       "\t<li>5</li>\n",
       "\t<li>6</li>\n",
       "\t<li>7</li>\n",
       "\t<li>8</li>\n",
       "\t<li>9</li>\n",
       "\t<li>10</li>\n",
       "\t<li>11</li>\n",
       "\t<li>12</li>\n",
       "\t<li>13</li>\n",
       "\t<li>14</li>\n",
       "\t<li>15</li>\n",
       "\t<li>16</li>\n",
       "\t<li>17</li>\n",
       "\t<li>18</li>\n",
       "\t<li>19</li>\n",
       "\t<li>20</li>\n",
       "\t<li>21</li>\n",
       "\t<li>22</li>\n",
       "\t<li>23</li>\n",
       "\t<li>24</li>\n",
       "\t<li>25</li>\n",
       "\t<li>26</li>\n",
       "\t<li>27</li>\n",
       "\t<li>28</li>\n",
       "\t<li>29</li>\n",
       "\t<li>30</li>\n",
       "\t<li>31</li>\n",
       "\t<li>32</li>\n",
       "\t<li>33</li>\n",
       "\t<li>34</li>\n",
       "\t<li>35</li>\n",
       "\t<li>36</li>\n",
       "</ol>\n"
      ],
      "text/latex": [
       "\\begin{enumerate*}\n",
       "\\item 1\n",
       "\\item 2\n",
       "\\item 3\n",
       "\\item 4\n",
       "\\item 5\n",
       "\\item 6\n",
       "\\item 7\n",
       "\\item 8\n",
       "\\item 9\n",
       "\\item 10\n",
       "\\item 11\n",
       "\\item 12\n",
       "\\item 13\n",
       "\\item 14\n",
       "\\item 15\n",
       "\\item 16\n",
       "\\item 17\n",
       "\\item 18\n",
       "\\item 19\n",
       "\\item 20\n",
       "\\item 21\n",
       "\\item 22\n",
       "\\item 23\n",
       "\\item 24\n",
       "\\item 25\n",
       "\\item 26\n",
       "\\item 27\n",
       "\\item 28\n",
       "\\item 29\n",
       "\\item 30\n",
       "\\item 31\n",
       "\\item 32\n",
       "\\item 33\n",
       "\\item 34\n",
       "\\item 35\n",
       "\\item 36\n",
       "\\end{enumerate*}\n"
      ],
      "text/markdown": [
       "1. 1\n",
       "2. 2\n",
       "3. 3\n",
       "4. 4\n",
       "5. 5\n",
       "6. 6\n",
       "7. 7\n",
       "8. 8\n",
       "9. 9\n",
       "10. 10\n",
       "11. 11\n",
       "12. 12\n",
       "13. 13\n",
       "14. 14\n",
       "15. 15\n",
       "16. 16\n",
       "17. 17\n",
       "18. 18\n",
       "19. 19\n",
       "20. 20\n",
       "21. 21\n",
       "22. 22\n",
       "23. 23\n",
       "24. 24\n",
       "25. 25\n",
       "26. 26\n",
       "27. 27\n",
       "28. 28\n",
       "29. 29\n",
       "30. 30\n",
       "31. 31\n",
       "32. 32\n",
       "33. 33\n",
       "34. 34\n",
       "35. 35\n",
       "36. 36\n",
       "\n",
       "\n"
      ],
      "text/plain": [
       ", , 1\n",
       "\n",
       "     [,1] [,2] [,3]\n",
       "[1,]    1    5    9\n",
       "[2,]    2    6   10\n",
       "[3,]    3    7   11\n",
       "[4,]    4    8   12\n",
       "\n",
       ", , 2\n",
       "\n",
       "     [,1] [,2] [,3]\n",
       "[1,]   13   17   21\n",
       "[2,]   14   18   22\n",
       "[3,]   15   19   23\n",
       "[4,]   16   20   24\n",
       "\n",
       ", , 3\n",
       "\n",
       "     [,1] [,2] [,3]\n",
       "[1,]   25   29   33\n",
       "[2,]   26   30   34\n",
       "[3,]   27   31   35\n",
       "[4,]   28   32   36\n"
      ]
     },
     "metadata": {},
     "output_type": "display_data"
    }
   ],
   "source": [
    "xx=array(1:36,c(4,3,3))\n",
    "xx"
   ]
  },
  {
   "cell_type": "code",
   "execution_count": 37,
   "metadata": {},
   "outputs": [
    {
     "data": {
      "text/html": [
       "<table>\n",
       "<caption>A matrix: 4 × 3 of type int</caption>\n",
       "<tbody>\n",
       "\t<tr><td>13</td><td>17</td><td>21</td></tr>\n",
       "\t<tr><td>14</td><td>18</td><td>22</td></tr>\n",
       "\t<tr><td>15</td><td>19</td><td>23</td></tr>\n",
       "\t<tr><td>16</td><td>20</td><td>24</td></tr>\n",
       "</tbody>\n",
       "</table>\n"
      ],
      "text/latex": [
       "A matrix: 4 × 3 of type int\n",
       "\\begin{tabular}{lll}\n",
       "\t 13 & 17 & 21\\\\\n",
       "\t 14 & 18 & 22\\\\\n",
       "\t 15 & 19 & 23\\\\\n",
       "\t 16 & 20 & 24\\\\\n",
       "\\end{tabular}\n"
      ],
      "text/markdown": [
       "\n",
       "A matrix: 4 × 3 of type int\n",
       "\n",
       "| 13 | 17 | 21 |\n",
       "| 14 | 18 | 22 |\n",
       "| 15 | 19 | 23 |\n",
       "| 16 | 20 | 24 |\n",
       "\n"
      ],
      "text/plain": [
       "     [,1] [,2] [,3]\n",
       "[1,] 13   17   21  \n",
       "[2,] 14   18   22  \n",
       "[3,] 15   19   23  \n",
       "[4,] 16   20   24  "
      ]
     },
     "metadata": {},
     "output_type": "display_data"
    }
   ],
   "source": [
    "xx[,,2]"
   ]
  },
  {
   "cell_type": "code",
   "execution_count": 38,
   "metadata": {},
   "outputs": [
    {
     "data": {
      "text/html": [
       "<table>\n",
       "<caption>A matrix: 4 × 3 of type int</caption>\n",
       "<tbody>\n",
       "\t<tr><td>5</td><td>17</td><td>29</td></tr>\n",
       "\t<tr><td>6</td><td>18</td><td>30</td></tr>\n",
       "\t<tr><td>7</td><td>19</td><td>31</td></tr>\n",
       "\t<tr><td>8</td><td>20</td><td>32</td></tr>\n",
       "</tbody>\n",
       "</table>\n"
      ],
      "text/latex": [
       "A matrix: 4 × 3 of type int\n",
       "\\begin{tabular}{lll}\n",
       "\t 5 & 17 & 29\\\\\n",
       "\t 6 & 18 & 30\\\\\n",
       "\t 7 & 19 & 31\\\\\n",
       "\t 8 & 20 & 32\\\\\n",
       "\\end{tabular}\n"
      ],
      "text/markdown": [
       "\n",
       "A matrix: 4 × 3 of type int\n",
       "\n",
       "| 5 | 17 | 29 |\n",
       "| 6 | 18 | 30 |\n",
       "| 7 | 19 | 31 |\n",
       "| 8 | 20 | 32 |\n",
       "\n"
      ],
      "text/plain": [
       "     [,1] [,2] [,3]\n",
       "[1,] 5    17   29  \n",
       "[2,] 6    18   30  \n",
       "[3,] 7    19   31  \n",
       "[4,] 8    20   32  "
      ]
     },
     "metadata": {},
     "output_type": "display_data"
    }
   ],
   "source": [
    "xx[,2,]"
   ]
  },
  {
   "cell_type": "code",
   "execution_count": 39,
   "metadata": {},
   "outputs": [
    {
     "data": {
      "text/html": [
       "<table>\n",
       "<caption>A matrix: 3 × 3 of type int</caption>\n",
       "<tbody>\n",
       "\t<tr><td> 3</td><td>15</td><td>27</td></tr>\n",
       "\t<tr><td> 7</td><td>19</td><td>31</td></tr>\n",
       "\t<tr><td>11</td><td>23</td><td>35</td></tr>\n",
       "</tbody>\n",
       "</table>\n"
      ],
      "text/latex": [
       "A matrix: 3 × 3 of type int\n",
       "\\begin{tabular}{lll}\n",
       "\t  3 & 15 & 27\\\\\n",
       "\t  7 & 19 & 31\\\\\n",
       "\t 11 & 23 & 35\\\\\n",
       "\\end{tabular}\n"
      ],
      "text/markdown": [
       "\n",
       "A matrix: 3 × 3 of type int\n",
       "\n",
       "|  3 | 15 | 27 |\n",
       "|  7 | 19 | 31 |\n",
       "| 11 | 23 | 35 |\n",
       "\n"
      ],
      "text/plain": [
       "     [,1] [,2] [,3]\n",
       "[1,]  3   15   27  \n",
       "[2,]  7   19   31  \n",
       "[3,] 11   23   35  "
      ]
     },
     "metadata": {},
     "output_type": "display_data"
    }
   ],
   "source": [
    "xx[3,,]"
   ]
  },
  {
   "cell_type": "code",
   "execution_count": 40,
   "metadata": {},
   "outputs": [
    {
     "data": {
      "text/html": [
       "<ol class=list-inline>\n",
       "\t<li>10</li>\n",
       "\t<li>11</li>\n",
       "\t<li>12</li>\n",
       "\t<li>13</li>\n",
       "\t<li>14</li>\n",
       "\t<li>15</li>\n",
       "\t<li>16</li>\n",
       "\t<li>17</li>\n",
       "\t<li>18</li>\n",
       "\t<li>19</li>\n",
       "\t<li>20</li>\n",
       "\t<li>21</li>\n",
       "\t<li>22</li>\n",
       "\t<li>23</li>\n",
       "\t<li>24</li>\n",
       "\t<li>25</li>\n",
       "\t<li>26</li>\n",
       "\t<li>27</li>\n",
       "\t<li>28</li>\n",
       "\t<li>29</li>\n",
       "\t<li>30</li>\n",
       "\t<li>31</li>\n",
       "\t<li>32</li>\n",
       "\t<li>33</li>\n",
       "\t<li>34</li>\n",
       "\t<li>35</li>\n",
       "\t<li>36</li>\n",
       "\t<li>37</li>\n",
       "\t<li>38</li>\n",
       "\t<li>39</li>\n",
       "\t<li>40</li>\n",
       "\t<li>41</li>\n",
       "\t<li>42</li>\n",
       "\t<li>43</li>\n",
       "\t<li>44</li>\n",
       "\t<li>45</li>\n",
       "\t<li>46</li>\n",
       "\t<li>47</li>\n",
       "\t<li>48</li>\n",
       "\t<li>49</li>\n",
       "\t<li>50</li>\n",
       "\t<li>51</li>\n",
       "\t<li>52</li>\n",
       "\t<li>53</li>\n",
       "\t<li>54</li>\n",
       "\t<li>55</li>\n",
       "\t<li>56</li>\n",
       "\t<li>57</li>\n",
       "\t<li>58</li>\n",
       "\t<li>59</li>\n",
       "\t<li>60</li>\n",
       "\t<li>61</li>\n",
       "\t<li>62</li>\n",
       "\t<li>63</li>\n",
       "\t<li>64</li>\n",
       "\t<li>65</li>\n",
       "\t<li>66</li>\n",
       "\t<li>67</li>\n",
       "\t<li>68</li>\n",
       "\t<li>69</li>\n",
       "\t<li>70</li>\n",
       "\t<li>71</li>\n",
       "\t<li>72</li>\n",
       "\t<li>73</li>\n",
       "\t<li>74</li>\n",
       "\t<li>75</li>\n",
       "\t<li>76</li>\n",
       "\t<li>77</li>\n",
       "\t<li>78</li>\n",
       "\t<li>79</li>\n",
       "\t<li>80</li>\n",
       "\t<li>81</li>\n",
       "\t<li>82</li>\n",
       "\t<li>83</li>\n",
       "\t<li>84</li>\n",
       "\t<li>85</li>\n",
       "\t<li>86</li>\n",
       "\t<li>87</li>\n",
       "\t<li>88</li>\n",
       "\t<li>89</li>\n",
       "\t<li>90</li>\n",
       "\t<li>91</li>\n",
       "\t<li>92</li>\n",
       "\t<li>93</li>\n",
       "\t<li>94</li>\n",
       "\t<li>95</li>\n",
       "\t<li>96</li>\n",
       "\t<li>97</li>\n",
       "\t<li>98</li>\n",
       "\t<li>99</li>\n",
       "\t<li>100</li>\n",
       "</ol>\n"
      ],
      "text/latex": [
       "\\begin{enumerate*}\n",
       "\\item 10\n",
       "\\item 11\n",
       "\\item 12\n",
       "\\item 13\n",
       "\\item 14\n",
       "\\item 15\n",
       "\\item 16\n",
       "\\item 17\n",
       "\\item 18\n",
       "\\item 19\n",
       "\\item 20\n",
       "\\item 21\n",
       "\\item 22\n",
       "\\item 23\n",
       "\\item 24\n",
       "\\item 25\n",
       "\\item 26\n",
       "\\item 27\n",
       "\\item 28\n",
       "\\item 29\n",
       "\\item 30\n",
       "\\item 31\n",
       "\\item 32\n",
       "\\item 33\n",
       "\\item 34\n",
       "\\item 35\n",
       "\\item 36\n",
       "\\item 37\n",
       "\\item 38\n",
       "\\item 39\n",
       "\\item 40\n",
       "\\item 41\n",
       "\\item 42\n",
       "\\item 43\n",
       "\\item 44\n",
       "\\item 45\n",
       "\\item 46\n",
       "\\item 47\n",
       "\\item 48\n",
       "\\item 49\n",
       "\\item 50\n",
       "\\item 51\n",
       "\\item 52\n",
       "\\item 53\n",
       "\\item 54\n",
       "\\item 55\n",
       "\\item 56\n",
       "\\item 57\n",
       "\\item 58\n",
       "\\item 59\n",
       "\\item 60\n",
       "\\item 61\n",
       "\\item 62\n",
       "\\item 63\n",
       "\\item 64\n",
       "\\item 65\n",
       "\\item 66\n",
       "\\item 67\n",
       "\\item 68\n",
       "\\item 69\n",
       "\\item 70\n",
       "\\item 71\n",
       "\\item 72\n",
       "\\item 73\n",
       "\\item 74\n",
       "\\item 75\n",
       "\\item 76\n",
       "\\item 77\n",
       "\\item 78\n",
       "\\item 79\n",
       "\\item 80\n",
       "\\item 81\n",
       "\\item 82\n",
       "\\item 83\n",
       "\\item 84\n",
       "\\item 85\n",
       "\\item 86\n",
       "\\item 87\n",
       "\\item 88\n",
       "\\item 89\n",
       "\\item 90\n",
       "\\item 91\n",
       "\\item 92\n",
       "\\item 93\n",
       "\\item 94\n",
       "\\item 95\n",
       "\\item 96\n",
       "\\item 97\n",
       "\\item 98\n",
       "\\item 99\n",
       "\\item 100\n",
       "\\end{enumerate*}\n"
      ],
      "text/markdown": [
       "1. 10\n",
       "2. 11\n",
       "3. 12\n",
       "4. 13\n",
       "5. 14\n",
       "6. 15\n",
       "7. 16\n",
       "8. 17\n",
       "9. 18\n",
       "10. 19\n",
       "11. 20\n",
       "12. 21\n",
       "13. 22\n",
       "14. 23\n",
       "15. 24\n",
       "16. 25\n",
       "17. 26\n",
       "18. 27\n",
       "19. 28\n",
       "20. 29\n",
       "21. 30\n",
       "22. 31\n",
       "23. 32\n",
       "24. 33\n",
       "25. 34\n",
       "26. 35\n",
       "27. 36\n",
       "28. 37\n",
       "29. 38\n",
       "30. 39\n",
       "31. 40\n",
       "32. 41\n",
       "33. 42\n",
       "34. 43\n",
       "35. 44\n",
       "36. 45\n",
       "37. 46\n",
       "38. 47\n",
       "39. 48\n",
       "40. 49\n",
       "41. 50\n",
       "42. 51\n",
       "43. 52\n",
       "44. 53\n",
       "45. 54\n",
       "46. 55\n",
       "47. 56\n",
       "48. 57\n",
       "49. 58\n",
       "50. 59\n",
       "51. 60\n",
       "52. 61\n",
       "53. 62\n",
       "54. 63\n",
       "55. 64\n",
       "56. 65\n",
       "57. 66\n",
       "58. 67\n",
       "59. 68\n",
       "60. 69\n",
       "61. 70\n",
       "62. 71\n",
       "63. 72\n",
       "64. 73\n",
       "65. 74\n",
       "66. 75\n",
       "67. 76\n",
       "68. 77\n",
       "69. 78\n",
       "70. 79\n",
       "71. 80\n",
       "72. 81\n",
       "73. 82\n",
       "74. 83\n",
       "75. 84\n",
       "76. 85\n",
       "77. 86\n",
       "78. 87\n",
       "79. 88\n",
       "80. 89\n",
       "81. 90\n",
       "82. 91\n",
       "83. 92\n",
       "84. 93\n",
       "85. 94\n",
       "86. 95\n",
       "87. 96\n",
       "88. 97\n",
       "89. 98\n",
       "90. 99\n",
       "91. 100\n",
       "\n",
       "\n"
      ],
      "text/plain": [
       " [1]  10  11  12  13  14  15  16  17  18  19  20  21  22  23  24  25  26  27  28\n",
       "[20]  29  30  31  32  33  34  35  36  37  38  39  40  41  42  43  44  45  46  47\n",
       "[39]  48  49  50  51  52  53  54  55  56  57  58  59  60  61  62  63  64  65  66\n",
       "[58]  67  68  69  70  71  72  73  74  75  76  77  78  79  80  81  82  83  84  85\n",
       "[77]  86  87  88  89  90  91  92  93  94  95  96  97  98  99 100"
      ]
     },
     "metadata": {},
     "output_type": "display_data"
    }
   ],
   "source": [
    "seq(10,100)"
   ]
  },
  {
   "cell_type": "code",
   "execution_count": 41,
   "metadata": {},
   "outputs": [
    {
     "data": {
      "text/html": [
       "<ol class=list-inline>\n",
       "\t<li>10</li>\n",
       "\t<li>30</li>\n",
       "\t<li>50</li>\n",
       "\t<li>70</li>\n",
       "\t<li>90</li>\n",
       "</ol>\n"
      ],
      "text/latex": [
       "\\begin{enumerate*}\n",
       "\\item 10\n",
       "\\item 30\n",
       "\\item 50\n",
       "\\item 70\n",
       "\\item 90\n",
       "\\end{enumerate*}\n"
      ],
      "text/markdown": [
       "1. 10\n",
       "2. 30\n",
       "3. 50\n",
       "4. 70\n",
       "5. 90\n",
       "\n",
       "\n"
      ],
      "text/plain": [
       "[1] 10 30 50 70 90"
      ]
     },
     "metadata": {},
     "output_type": "display_data"
    }
   ],
   "source": [
    "seq(10,100,by=20)"
   ]
  },
  {
   "cell_type": "code",
   "execution_count": 42,
   "metadata": {},
   "outputs": [
    {
     "data": {
      "text/html": [
       "<ol class=list-inline>\n",
       "\t<li>10</li>\n",
       "\t<li>22.8571428571429</li>\n",
       "\t<li>35.7142857142857</li>\n",
       "\t<li>48.5714285714286</li>\n",
       "\t<li>61.4285714285714</li>\n",
       "\t<li>74.2857142857143</li>\n",
       "\t<li>87.1428571428571</li>\n",
       "\t<li>100</li>\n",
       "</ol>\n"
      ],
      "text/latex": [
       "\\begin{enumerate*}\n",
       "\\item 10\n",
       "\\item 22.8571428571429\n",
       "\\item 35.7142857142857\n",
       "\\item 48.5714285714286\n",
       "\\item 61.4285714285714\n",
       "\\item 74.2857142857143\n",
       "\\item 87.1428571428571\n",
       "\\item 100\n",
       "\\end{enumerate*}\n"
      ],
      "text/markdown": [
       "1. 10\n",
       "2. 22.8571428571429\n",
       "3. 35.7142857142857\n",
       "4. 48.5714285714286\n",
       "5. 61.4285714285714\n",
       "6. 74.2857142857143\n",
       "7. 87.1428571428571\n",
       "8. 100\n",
       "\n",
       "\n"
      ],
      "text/plain": [
       "[1]  10.00000  22.85714  35.71429  48.57143  61.42857  74.28571  87.14286\n",
       "[8] 100.00000"
      ]
     },
     "metadata": {},
     "output_type": "display_data"
    }
   ],
   "source": [
    "seq(10,100,length=8)"
   ]
  },
  {
   "cell_type": "code",
   "execution_count": 43,
   "metadata": {},
   "outputs": [
    {
     "data": {
      "text/html": [
       "<ol class=list-inline>\n",
       "\t<li>10</li>\n",
       "\t<li>35</li>\n",
       "\t<li>42</li>\n",
       "\t<li>52</li>\n",
       "\t<li>69</li>\n",
       "\t<li>76</li>\n",
       "\t<li>84</li>\n",
       "</ol>\n"
      ],
      "text/latex": [
       "\\begin{enumerate*}\n",
       "\\item 10\n",
       "\\item 35\n",
       "\\item 42\n",
       "\\item 52\n",
       "\\item 69\n",
       "\\item 76\n",
       "\\item 84\n",
       "\\end{enumerate*}\n"
      ],
      "text/markdown": [
       "1. 10\n",
       "2. 35\n",
       "3. 42\n",
       "4. 52\n",
       "5. 69\n",
       "6. 76\n",
       "7. 84\n",
       "\n",
       "\n"
      ],
      "text/plain": [
       "[1] 10 35 42 52 69 76 84"
      ]
     },
     "metadata": {},
     "output_type": "display_data"
    },
    {
     "data": {
      "text/html": [
       "<ol class=list-inline>\n",
       "\t<li>3</li>\n",
       "\t<li>2</li>\n",
       "\t<li>4</li>\n",
       "\t<li>1</li>\n",
       "\t<li>7</li>\n",
       "\t<li>6</li>\n",
       "\t<li>5</li>\n",
       "</ol>\n"
      ],
      "text/latex": [
       "\\begin{enumerate*}\n",
       "\\item 3\n",
       "\\item 2\n",
       "\\item 4\n",
       "\\item 1\n",
       "\\item 7\n",
       "\\item 6\n",
       "\\item 5\n",
       "\\end{enumerate*}\n"
      ],
      "text/markdown": [
       "1. 3\n",
       "2. 2\n",
       "3. 4\n",
       "4. 1\n",
       "5. 7\n",
       "6. 6\n",
       "7. 5\n",
       "\n",
       "\n"
      ],
      "text/plain": [
       "[1] 3 2 4 1 7 6 5"
      ]
     },
     "metadata": {},
     "output_type": "display_data"
    },
    {
     "data": {
      "text/html": [
       "<ol class=list-inline>\n",
       "\t<li>4</li>\n",
       "\t<li>2</li>\n",
       "\t<li>1</li>\n",
       "\t<li>3</li>\n",
       "\t<li>7</li>\n",
       "\t<li>6</li>\n",
       "\t<li>5</li>\n",
       "</ol>\n"
      ],
      "text/latex": [
       "\\begin{enumerate*}\n",
       "\\item 4\n",
       "\\item 2\n",
       "\\item 1\n",
       "\\item 3\n",
       "\\item 7\n",
       "\\item 6\n",
       "\\item 5\n",
       "\\end{enumerate*}\n"
      ],
      "text/markdown": [
       "1. 4\n",
       "2. 2\n",
       "3. 1\n",
       "4. 3\n",
       "5. 7\n",
       "6. 6\n",
       "7. 5\n",
       "\n",
       "\n"
      ],
      "text/plain": [
       "[1] 4 2 1 3 7 6 5"
      ]
     },
     "metadata": {},
     "output_type": "display_data"
    }
   ],
   "source": [
    "y=c(52,35,10,42,84,76,69)\n",
    "sort(y)\n",
    "order(y)\n",
    "rank(y)"
   ]
  },
  {
   "cell_type": "code",
   "execution_count": 45,
   "metadata": {},
   "outputs": [
    {
     "data": {
      "text/html": [
       "<ol class=list-inline>\n",
       "\t<li>84</li>\n",
       "\t<li>76</li>\n",
       "\t<li>69</li>\n",
       "\t<li>52</li>\n",
       "\t<li>42</li>\n",
       "\t<li>35</li>\n",
       "\t<li>10</li>\n",
       "</ol>\n"
      ],
      "text/latex": [
       "\\begin{enumerate*}\n",
       "\\item 84\n",
       "\\item 76\n",
       "\\item 69\n",
       "\\item 52\n",
       "\\item 42\n",
       "\\item 35\n",
       "\\item 10\n",
       "\\end{enumerate*}\n"
      ],
      "text/markdown": [
       "1. 84\n",
       "2. 76\n",
       "3. 69\n",
       "4. 52\n",
       "5. 42\n",
       "6. 35\n",
       "7. 10\n",
       "\n",
       "\n"
      ],
      "text/plain": [
       "[1] 84 76 69 52 42 35 10"
      ]
     },
     "metadata": {},
     "output_type": "display_data"
    },
    {
     "data": {
      "text/html": [
       "<ol class=list-inline>\n",
       "\t<li>84</li>\n",
       "\t<li>76</li>\n",
       "\t<li>69</li>\n",
       "\t<li>52</li>\n",
       "\t<li>42</li>\n",
       "\t<li>35</li>\n",
       "\t<li>10</li>\n",
       "</ol>\n"
      ],
      "text/latex": [
       "\\begin{enumerate*}\n",
       "\\item 84\n",
       "\\item 76\n",
       "\\item 69\n",
       "\\item 52\n",
       "\\item 42\n",
       "\\item 35\n",
       "\\item 10\n",
       "\\end{enumerate*}\n"
      ],
      "text/markdown": [
       "1. 84\n",
       "2. 76\n",
       "3. 69\n",
       "4. 52\n",
       "5. 42\n",
       "6. 35\n",
       "7. 10\n",
       "\n",
       "\n"
      ],
      "text/plain": [
       "[1] 84 76 69 52 42 35 10"
      ]
     },
     "metadata": {},
     "output_type": "display_data"
    }
   ],
   "source": [
    "sort(y,decreasing=T)\n",
    "rev(sort(y))"
   ]
  },
  {
   "cell_type": "code",
   "execution_count": 46,
   "metadata": {},
   "outputs": [
    {
     "name": "stdout",
     "output_type": "stream",
     "text": [
      "'data.frame':\t1000 obs. of  5 variables:\n",
      " $ lat     : num  -20.4 -20.6 -26 -18 -20.4 ...\n",
      " $ long    : num  182 181 184 182 182 ...\n",
      " $ depth   : int  562 650 42 626 649 195 82 194 211 622 ...\n",
      " $ mag     : num  4.8 4.2 5.4 4.1 4 4 4.8 4.4 4.7 4.3 ...\n",
      " $ stations: int  41 15 43 19 11 12 43 15 35 19 ...\n"
     ]
    }
   ],
   "source": [
    "str(quakes)"
   ]
  },
  {
   "cell_type": "code",
   "execution_count": null,
   "metadata": {},
   "outputs": [],
   "source": []
  }
 ],
 "metadata": {
  "kernelspec": {
   "display_name": "R",
   "language": "R",
   "name": "ir"
  },
  "language_info": {
   "codemirror_mode": "r",
   "file_extension": ".r",
   "mimetype": "text/x-r-source",
   "name": "R",
   "pygments_lexer": "r",
   "version": "3.6.1"
  }
 },
 "nbformat": 4,
 "nbformat_minor": 2
}
