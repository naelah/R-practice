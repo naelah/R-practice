{
 "cells": [
  {
   "cell_type": "raw",
   "metadata": {},
   "source": [
    "Question 1 (a)"
   ]
  },
  {
   "cell_type": "code",
   "execution_count": 1,
   "metadata": {},
   "outputs": [
    {
     "data": {
      "text/html": [
       "<ol class=list-inline>\n",
       "\t<li>10</li>\n",
       "\t<li>10</li>\n",
       "\t<li>10</li>\n",
       "\t<li>10</li>\n",
       "\t<li>10</li>\n",
       "\t<li>18</li>\n",
       "\t<li>18</li>\n",
       "\t<li>18</li>\n",
       "\t<li>18</li>\n",
       "\t<li>26</li>\n",
       "\t<li>26</li>\n",
       "\t<li>26</li>\n",
       "\t<li>34</li>\n",
       "\t<li>34</li>\n",
       "</ol>\n"
      ],
      "text/latex": [
       "\\begin{enumerate*}\n",
       "\\item 10\n",
       "\\item 10\n",
       "\\item 10\n",
       "\\item 10\n",
       "\\item 10\n",
       "\\item 18\n",
       "\\item 18\n",
       "\\item 18\n",
       "\\item 18\n",
       "\\item 26\n",
       "\\item 26\n",
       "\\item 26\n",
       "\\item 34\n",
       "\\item 34\n",
       "\\end{enumerate*}\n"
      ],
      "text/markdown": [
       "1. 10\n",
       "2. 10\n",
       "3. 10\n",
       "4. 10\n",
       "5. 10\n",
       "6. 18\n",
       "7. 18\n",
       "8. 18\n",
       "9. 18\n",
       "10. 26\n",
       "11. 26\n",
       "12. 26\n",
       "13. 34\n",
       "14. 34\n",
       "\n",
       "\n"
      ],
      "text/plain": [
       " [1] 10 10 10 10 10 18 18 18 18 26 26 26 34 34"
      ]
     },
     "metadata": {},
     "output_type": "display_data"
    }
   ],
   "source": [
    "rep(seq(10,40,8),5:2)"
   ]
  },
  {
   "cell_type": "raw",
   "metadata": {},
   "source": [
    "Question 1 (b) Write the R command to produce a vector of four 8's, seven 6's and three 5's"
   ]
  },
  {
   "cell_type": "code",
   "execution_count": 4,
   "metadata": {},
   "outputs": [
    {
     "data": {
      "text/html": [
       "<ol class=list-inline>\n",
       "\t<li>8</li>\n",
       "\t<li>8</li>\n",
       "\t<li>8</li>\n",
       "\t<li>8</li>\n",
       "\t<li>6</li>\n",
       "\t<li>6</li>\n",
       "\t<li>6</li>\n",
       "\t<li>6</li>\n",
       "\t<li>6</li>\n",
       "\t<li>6</li>\n",
       "\t<li>6</li>\n",
       "\t<li>5</li>\n",
       "\t<li>5</li>\n",
       "\t<li>5</li>\n",
       "</ol>\n"
      ],
      "text/latex": [
       "\\begin{enumerate*}\n",
       "\\item 8\n",
       "\\item 8\n",
       "\\item 8\n",
       "\\item 8\n",
       "\\item 6\n",
       "\\item 6\n",
       "\\item 6\n",
       "\\item 6\n",
       "\\item 6\n",
       "\\item 6\n",
       "\\item 6\n",
       "\\item 5\n",
       "\\item 5\n",
       "\\item 5\n",
       "\\end{enumerate*}\n"
      ],
      "text/markdown": [
       "1. 8\n",
       "2. 8\n",
       "3. 8\n",
       "4. 8\n",
       "5. 6\n",
       "6. 6\n",
       "7. 6\n",
       "8. 6\n",
       "9. 6\n",
       "10. 6\n",
       "11. 6\n",
       "12. 5\n",
       "13. 5\n",
       "14. 5\n",
       "\n",
       "\n"
      ],
      "text/plain": [
       " [1] 8 8 8 8 6 6 6 6 6 6 6 5 5 5"
      ]
     },
     "metadata": {},
     "output_type": "display_data"
    }
   ],
   "source": [
    "q1b = c(rep(8,4),rep(6,7),rep(5,3)) \n",
    "q1b"
   ]
  },
  {
   "cell_type": "markdown",
   "metadata": {},
   "source": [
    "Question 1 (c)"
   ]
  },
  {
   "cell_type": "code",
   "execution_count": 5,
   "metadata": {},
   "outputs": [
    {
     "data": {
      "text/html": [
       "<ol class=list-inline>\n",
       "\t<li>400</li>\n",
       "\t<li>380</li>\n",
       "\t<li>360</li>\n",
       "\t<li>340</li>\n",
       "\t<li>320</li>\n",
       "\t<li>300</li>\n",
       "\t<li>280</li>\n",
       "\t<li>260</li>\n",
       "\t<li>240</li>\n",
       "\t<li>220</li>\n",
       "\t<li>200</li>\n",
       "\t<li>180</li>\n",
       "\t<li>160</li>\n",
       "\t<li>140</li>\n",
       "\t<li>120</li>\n",
       "\t<li>100</li>\n",
       "\t<li>80</li>\n",
       "\t<li>60</li>\n",
       "</ol>\n"
      ],
      "text/latex": [
       "\\begin{enumerate*}\n",
       "\\item 400\n",
       "\\item 380\n",
       "\\item 360\n",
       "\\item 340\n",
       "\\item 320\n",
       "\\item 300\n",
       "\\item 280\n",
       "\\item 260\n",
       "\\item 240\n",
       "\\item 220\n",
       "\\item 200\n",
       "\\item 180\n",
       "\\item 160\n",
       "\\item 140\n",
       "\\item 120\n",
       "\\item 100\n",
       "\\item 80\n",
       "\\item 60\n",
       "\\end{enumerate*}\n"
      ],
      "text/markdown": [
       "1. 400\n",
       "2. 380\n",
       "3. 360\n",
       "4. 340\n",
       "5. 320\n",
       "6. 300\n",
       "7. 280\n",
       "8. 260\n",
       "9. 240\n",
       "10. 220\n",
       "11. 200\n",
       "12. 180\n",
       "13. 160\n",
       "14. 140\n",
       "15. 120\n",
       "16. 100\n",
       "17. 80\n",
       "18. 60\n",
       "\n",
       "\n"
      ],
      "text/plain": [
       " [1] 400 380 360 340 320 300 280 260 240 220 200 180 160 140 120 100  80  60"
      ]
     },
     "metadata": {},
     "output_type": "display_data"
    }
   ],
   "source": [
    "q1c = rev(seq(60,400,by=20))\n",
    "q1c"
   ]
  },
  {
   "cell_type": "raw",
   "metadata": {},
   "source": [
    "Question 1 (d) Produce the following output by using the data in part c\n",
    "#     \t\t[,1] [,2] [,3] [,4] [,5] [,6]\n",
    "#\t\t[1,]  400  380  360  340  320  300\n",
    "#\t\t[2,]  280  260  240  220  200  180\n",
    "#\t\t[3,]  160  140  120  100   80   60\n"
   ]
  },
  {
   "cell_type": "code",
   "execution_count": 6,
   "metadata": {},
   "outputs": [
    {
     "data": {
      "text/html": [
       "<table>\n",
       "<caption>A matrix: 3 × 6 of type dbl</caption>\n",
       "<tbody>\n",
       "\t<tr><td>400</td><td>380</td><td>360</td><td>340</td><td>320</td><td>300</td></tr>\n",
       "\t<tr><td>280</td><td>260</td><td>240</td><td>220</td><td>200</td><td>180</td></tr>\n",
       "\t<tr><td>160</td><td>140</td><td>120</td><td>100</td><td> 80</td><td> 60</td></tr>\n",
       "</tbody>\n",
       "</table>\n"
      ],
      "text/latex": [
       "A matrix: 3 × 6 of type dbl\n",
       "\\begin{tabular}{llllll}\n",
       "\t 400 & 380 & 360 & 340 & 320 & 300\\\\\n",
       "\t 280 & 260 & 240 & 220 & 200 & 180\\\\\n",
       "\t 160 & 140 & 120 & 100 &  80 &  60\\\\\n",
       "\\end{tabular}\n"
      ],
      "text/markdown": [
       "\n",
       "A matrix: 3 × 6 of type dbl\n",
       "\n",
       "| 400 | 380 | 360 | 340 | 320 | 300 |\n",
       "| 280 | 260 | 240 | 220 | 200 | 180 |\n",
       "| 160 | 140 | 120 | 100 |  80 |  60 |\n",
       "\n"
      ],
      "text/plain": [
       "     [,1] [,2] [,3] [,4] [,5] [,6]\n",
       "[1,] 400  380  360  340  320  300 \n",
       "[2,] 280  260  240  220  200  180 \n",
       "[3,] 160  140  120  100   80   60 "
      ]
     },
     "metadata": {},
     "output_type": "display_data"
    }
   ],
   "source": [
    "q1d = matrix(q1c, nrow=3, byrow=T)\n",
    "q1d"
   ]
  },
  {
   "cell_type": "raw",
   "metadata": {},
   "source": [
    "Question 1 (e) Based on the data in part d) obtain the following output\n",
    ", , 1\n",
    "\n",
    "     [,1] [,2] [,3]\n",
    "[1,]  400  160  260\n",
    "[2,]  280  380  140\n",
    "\n",
    ", , 2\n",
    "\n",
    "     [,1] [,2] [,3]\n",
    "[1,]  360  120  220\n",
    "[2,]  240  340  100\n",
    "\n",
    ", , 3\n",
    "\n",
    "     [,1] [,2] [,3]\n",
    "[1,]  320   80  180\n",
    "[2,]  200  300   60"
   ]
  },
  {
   "cell_type": "code",
   "execution_count": 7,
   "metadata": {},
   "outputs": [
    {
     "data": {
      "text/html": [
       "<ol class=list-inline>\n",
       "\t<li>400</li>\n",
       "\t<li>280</li>\n",
       "\t<li>160</li>\n",
       "\t<li>380</li>\n",
       "\t<li>260</li>\n",
       "\t<li>140</li>\n",
       "\t<li>360</li>\n",
       "\t<li>240</li>\n",
       "\t<li>120</li>\n",
       "\t<li>340</li>\n",
       "\t<li>220</li>\n",
       "\t<li>100</li>\n",
       "\t<li>320</li>\n",
       "\t<li>200</li>\n",
       "\t<li>80</li>\n",
       "\t<li>300</li>\n",
       "\t<li>180</li>\n",
       "\t<li>60</li>\n",
       "</ol>\n"
      ],
      "text/latex": [
       "\\begin{enumerate*}\n",
       "\\item 400\n",
       "\\item 280\n",
       "\\item 160\n",
       "\\item 380\n",
       "\\item 260\n",
       "\\item 140\n",
       "\\item 360\n",
       "\\item 240\n",
       "\\item 120\n",
       "\\item 340\n",
       "\\item 220\n",
       "\\item 100\n",
       "\\item 320\n",
       "\\item 200\n",
       "\\item 80\n",
       "\\item 300\n",
       "\\item 180\n",
       "\\item 60\n",
       "\\end{enumerate*}\n"
      ],
      "text/markdown": [
       "1. 400\n",
       "2. 280\n",
       "3. 160\n",
       "4. 380\n",
       "5. 260\n",
       "6. 140\n",
       "7. 360\n",
       "8. 240\n",
       "9. 120\n",
       "10. 340\n",
       "11. 220\n",
       "12. 100\n",
       "13. 320\n",
       "14. 200\n",
       "15. 80\n",
       "16. 300\n",
       "17. 180\n",
       "18. 60\n",
       "\n",
       "\n"
      ],
      "text/plain": [
       ", , 1\n",
       "\n",
       "     [,1] [,2] [,3]\n",
       "[1,]  400  160  260\n",
       "[2,]  280  380  140\n",
       "\n",
       ", , 2\n",
       "\n",
       "     [,1] [,2] [,3]\n",
       "[1,]  360  120  220\n",
       "[2,]  240  340  100\n",
       "\n",
       ", , 3\n",
       "\n",
       "     [,1] [,2] [,3]\n",
       "[1,]  320   80  180\n",
       "[2,]  200  300   60\n"
      ]
     },
     "metadata": {},
     "output_type": "display_data"
    }
   ],
   "source": [
    "q1e = array(q1d,c(2,3,3))\n",
    "q1e"
   ]
  },
  {
   "cell_type": "raw",
   "metadata": {},
   "source": [
    "Question 1 (e) Write a suitable command to replace the value 80 in part d) with 888\n"
   ]
  },
  {
   "cell_type": "code",
   "execution_count": 8,
   "metadata": {},
   "outputs": [],
   "source": [
    "q1d[3,5] = 80\n"
   ]
  },
  {
   "cell_type": "raw",
   "metadata": {},
   "source": [
    "Question 2 (a)"
   ]
  },
  {
   "cell_type": "code",
   "execution_count": null,
   "metadata": {},
   "outputs": [],
   "source": [
    "q2 = c(59,48,25,99,10,34,67,83)"
   ]
  },
  {
   "cell_type": "code",
   "execution_count": null,
   "metadata": {},
   "outputs": [],
   "source": [
    "sort(q2)"
   ]
  },
  {
   "cell_type": "code",
   "execution_count": 10,
   "metadata": {},
   "outputs": [
    {
     "data": {
      "text/html": [
       "<ol class=list-inline>\n",
       "\t<li>5</li>\n",
       "\t<li>3</li>\n",
       "\t<li>6</li>\n",
       "\t<li>2</li>\n",
       "\t<li>1</li>\n",
       "\t<li>7</li>\n",
       "\t<li>8</li>\n",
       "\t<li>4</li>\n",
       "</ol>\n"
      ],
      "text/latex": [
       "\\begin{enumerate*}\n",
       "\\item 5\n",
       "\\item 3\n",
       "\\item 6\n",
       "\\item 2\n",
       "\\item 1\n",
       "\\item 7\n",
       "\\item 8\n",
       "\\item 4\n",
       "\\end{enumerate*}\n"
      ],
      "text/markdown": [
       "1. 5\n",
       "2. 3\n",
       "3. 6\n",
       "4. 2\n",
       "5. 1\n",
       "6. 7\n",
       "7. 8\n",
       "8. 4\n",
       "\n",
       "\n"
      ],
      "text/plain": [
       "[1] 5 3 6 2 1 7 8 4"
      ]
     },
     "metadata": {},
     "output_type": "display_data"
    }
   ],
   "source": [
    "order(q2)"
   ]
  },
  {
   "cell_type": "code",
   "execution_count": 9,
   "metadata": {},
   "outputs": [
    {
     "data": {
      "text/html": [
       "<ol class=list-inline>\n",
       "\t<li>5</li>\n",
       "\t<li>4</li>\n",
       "\t<li>2</li>\n",
       "\t<li>8</li>\n",
       "\t<li>1</li>\n",
       "\t<li>3</li>\n",
       "\t<li>6</li>\n",
       "\t<li>7</li>\n",
       "</ol>\n"
      ],
      "text/latex": [
       "\\begin{enumerate*}\n",
       "\\item 5\n",
       "\\item 4\n",
       "\\item 2\n",
       "\\item 8\n",
       "\\item 1\n",
       "\\item 3\n",
       "\\item 6\n",
       "\\item 7\n",
       "\\end{enumerate*}\n"
      ],
      "text/markdown": [
       "1. 5\n",
       "2. 4\n",
       "3. 2\n",
       "4. 8\n",
       "5. 1\n",
       "6. 3\n",
       "7. 6\n",
       "8. 7\n",
       "\n",
       "\n"
      ],
      "text/plain": [
       "[1] 5 4 2 8 1 3 6 7"
      ]
     },
     "metadata": {},
     "output_type": "display_data"
    }
   ],
   "source": [
    "rank(q2)"
   ]
  },
  {
   "cell_type": "code",
   "execution_count": null,
   "metadata": {},
   "outputs": [],
   "source": []
  }
 ],
 "metadata": {
  "kernelspec": {
   "display_name": "R",
   "language": "R",
   "name": "ir"
  },
  "language_info": {
   "codemirror_mode": "r",
   "file_extension": ".r",
   "mimetype": "text/x-r-source",
   "name": "R",
   "pygments_lexer": "r",
   "version": "3.6.1"
  }
 },
 "nbformat": 4,
 "nbformat_minor": 2
}
